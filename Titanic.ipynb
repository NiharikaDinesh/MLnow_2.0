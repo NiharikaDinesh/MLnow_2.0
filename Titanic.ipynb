{
  "nbformat": 4,
  "nbformat_minor": 0,
  "metadata": {
    "kernelspec": {
      "language": "python",
      "display_name": "Python 3",
      "name": "python3"
    },
    "language_info": {
      "pygments_lexer": "ipython3",
      "nbconvert_exporter": "python",
      "version": "3.6.4",
      "file_extension": ".py",
      "codemirror_mode": {
        "name": "ipython",
        "version": 3
      },
      "name": "python",
      "mimetype": "text/x-python"
    },
    "colab": {
      "name": "titanic.ipynb",
      "provenance": [],
      "include_colab_link": true
    }
  },
  "cells": [
    {
      "cell_type": "markdown",
      "metadata": {
        "id": "view-in-github",
        "colab_type": "text"
      },
      "source": [
        "<a href=\"https://colab.research.google.com/github/NiharikaDinesh/MLnow_2.0/blob/main/Titanic.ipynb\" target=\"_parent\"><img src=\"https://colab.research.google.com/assets/colab-badge.svg\" alt=\"Open In Colab\"/></a>"
      ]
    },
    {
      "cell_type": "markdown",
      "metadata": {
        "id": "wDCw27clKFWg"
      },
      "source": [
        "# Titanic disaster survival classification"
      ]
    },
    {
      "cell_type": "code",
      "metadata": {
        "colab": {
          "base_uri": "https://localhost:8080/"
        },
        "id": "o99I6HN3Xgi2",
        "outputId": "80d0bf6a-55d8-4bd9-aa66-779b6c9b56eb"
      },
      "source": [
        "from google.colab import drive\n",
        "drive.mount('/content/drive')"
      ],
      "execution_count": 6,
      "outputs": [
        {
          "output_type": "stream",
          "text": [
            "Drive already mounted at /content/drive; to attempt to forcibly remount, call drive.mount(\"/content/drive\", force_remount=True).\n"
          ],
          "name": "stdout"
        }
      ]
    },
    {
      "cell_type": "code",
      "metadata": {
        "colab": {
          "base_uri": "https://localhost:8080/"
        },
        "id": "ojNGm-T8Xy04",
        "outputId": "dff08f79-83be-4da9-9c27-e2165bc79cde"
      },
      "source": [
        "cd '/content/drive/MyDrive/'"
      ],
      "execution_count": 7,
      "outputs": [
        {
          "output_type": "stream",
          "text": [
            "/content/drive/MyDrive\n"
          ],
          "name": "stdout"
        }
      ]
    },
    {
      "cell_type": "code",
      "metadata": {
        "id": "iC_0zA0PKFWh"
      },
      "source": [
        "import seaborn as sns\n",
        "import numpy as np\n",
        "import pandas as pd\n",
        "import matplotlib.pyplot as plt\n",
        "%matplotlib inline"
      ],
      "execution_count": 8,
      "outputs": []
    },
    {
      "cell_type": "markdown",
      "metadata": {
        "id": "BS0L4qVjKFWi"
      },
      "source": [
        "**[seaborn,matplotlib:data visualization],[pandas,numpy:calculation and data management]**"
      ]
    },
    {
      "cell_type": "markdown",
      "metadata": {
        "id": "JAZVigRdKFWi"
      },
      "source": [
        "# DATASET"
      ]
    },
    {
      "cell_type": "code",
      "metadata": {
        "scrolled": true,
        "colab": {
          "base_uri": "https://localhost:8080/",
          "height": 206
        },
        "id": "YjdPdNDJKFWj",
        "outputId": "5d31745d-ca26-43db-fbbc-5cff93f434a3"
      },
      "source": [
        "df=pd.read_csv('train.csv')\n",
        "df.head()"
      ],
      "execution_count": 9,
      "outputs": [
        {
          "output_type": "execute_result",
          "data": {
            "text/html": [
              "<div>\n",
              "<style scoped>\n",
              "    .dataframe tbody tr th:only-of-type {\n",
              "        vertical-align: middle;\n",
              "    }\n",
              "\n",
              "    .dataframe tbody tr th {\n",
              "        vertical-align: top;\n",
              "    }\n",
              "\n",
              "    .dataframe thead th {\n",
              "        text-align: right;\n",
              "    }\n",
              "</style>\n",
              "<table border=\"1\" class=\"dataframe\">\n",
              "  <thead>\n",
              "    <tr style=\"text-align: right;\">\n",
              "      <th></th>\n",
              "      <th>PassengerId</th>\n",
              "      <th>Survived</th>\n",
              "      <th>Pclass</th>\n",
              "      <th>Name</th>\n",
              "      <th>Sex</th>\n",
              "      <th>Age</th>\n",
              "      <th>SibSp</th>\n",
              "      <th>Parch</th>\n",
              "      <th>Ticket</th>\n",
              "      <th>Fare</th>\n",
              "      <th>Cabin</th>\n",
              "      <th>Embarked</th>\n",
              "    </tr>\n",
              "  </thead>\n",
              "  <tbody>\n",
              "    <tr>\n",
              "      <th>0</th>\n",
              "      <td>1</td>\n",
              "      <td>0</td>\n",
              "      <td>3</td>\n",
              "      <td>Braund, Mr. Owen Harris</td>\n",
              "      <td>male</td>\n",
              "      <td>22.0</td>\n",
              "      <td>1</td>\n",
              "      <td>0</td>\n",
              "      <td>A/5 21171</td>\n",
              "      <td>7.2500</td>\n",
              "      <td>NaN</td>\n",
              "      <td>S</td>\n",
              "    </tr>\n",
              "    <tr>\n",
              "      <th>1</th>\n",
              "      <td>2</td>\n",
              "      <td>1</td>\n",
              "      <td>1</td>\n",
              "      <td>Cumings, Mrs. John Bradley (Florence Briggs Th...</td>\n",
              "      <td>female</td>\n",
              "      <td>38.0</td>\n",
              "      <td>1</td>\n",
              "      <td>0</td>\n",
              "      <td>PC 17599</td>\n",
              "      <td>71.2833</td>\n",
              "      <td>C85</td>\n",
              "      <td>C</td>\n",
              "    </tr>\n",
              "    <tr>\n",
              "      <th>2</th>\n",
              "      <td>3</td>\n",
              "      <td>1</td>\n",
              "      <td>3</td>\n",
              "      <td>Heikkinen, Miss. Laina</td>\n",
              "      <td>female</td>\n",
              "      <td>26.0</td>\n",
              "      <td>0</td>\n",
              "      <td>0</td>\n",
              "      <td>STON/O2. 3101282</td>\n",
              "      <td>7.9250</td>\n",
              "      <td>NaN</td>\n",
              "      <td>S</td>\n",
              "    </tr>\n",
              "    <tr>\n",
              "      <th>3</th>\n",
              "      <td>4</td>\n",
              "      <td>1</td>\n",
              "      <td>1</td>\n",
              "      <td>Futrelle, Mrs. Jacques Heath (Lily May Peel)</td>\n",
              "      <td>female</td>\n",
              "      <td>35.0</td>\n",
              "      <td>1</td>\n",
              "      <td>0</td>\n",
              "      <td>113803</td>\n",
              "      <td>53.1000</td>\n",
              "      <td>C123</td>\n",
              "      <td>S</td>\n",
              "    </tr>\n",
              "    <tr>\n",
              "      <th>4</th>\n",
              "      <td>5</td>\n",
              "      <td>0</td>\n",
              "      <td>3</td>\n",
              "      <td>Allen, Mr. William Henry</td>\n",
              "      <td>male</td>\n",
              "      <td>35.0</td>\n",
              "      <td>0</td>\n",
              "      <td>0</td>\n",
              "      <td>373450</td>\n",
              "      <td>8.0500</td>\n",
              "      <td>NaN</td>\n",
              "      <td>S</td>\n",
              "    </tr>\n",
              "  </tbody>\n",
              "</table>\n",
              "</div>"
            ],
            "text/plain": [
              "   PassengerId  Survived  Pclass  ...     Fare Cabin  Embarked\n",
              "0            1         0       3  ...   7.2500   NaN         S\n",
              "1            2         1       1  ...  71.2833   C85         C\n",
              "2            3         1       3  ...   7.9250   NaN         S\n",
              "3            4         1       1  ...  53.1000  C123         S\n",
              "4            5         0       3  ...   8.0500   NaN         S\n",
              "\n",
              "[5 rows x 12 columns]"
            ]
          },
          "metadata": {
            "tags": []
          },
          "execution_count": 9
        }
      ]
    },
    {
      "cell_type": "markdown",
      "metadata": {
        "id": "-tTg9HKiKFWj"
      },
      "source": [
        "**Titanic dataset**"
      ]
    },
    {
      "cell_type": "code",
      "metadata": {
        "colab": {
          "base_uri": "https://localhost:8080/"
        },
        "id": "Isw3jGhCKFWk",
        "outputId": "091c3f3c-a11b-42d8-d9f6-7ab173dbd971"
      },
      "source": [
        "df.info()"
      ],
      "execution_count": 10,
      "outputs": [
        {
          "output_type": "stream",
          "text": [
            "<class 'pandas.core.frame.DataFrame'>\n",
            "RangeIndex: 891 entries, 0 to 890\n",
            "Data columns (total 12 columns):\n",
            " #   Column       Non-Null Count  Dtype  \n",
            "---  ------       --------------  -----  \n",
            " 0   PassengerId  891 non-null    int64  \n",
            " 1   Survived     891 non-null    int64  \n",
            " 2   Pclass       891 non-null    int64  \n",
            " 3   Name         891 non-null    object \n",
            " 4   Sex          891 non-null    object \n",
            " 5   Age          714 non-null    float64\n",
            " 6   SibSp        891 non-null    int64  \n",
            " 7   Parch        891 non-null    int64  \n",
            " 8   Ticket       891 non-null    object \n",
            " 9   Fare         891 non-null    float64\n",
            " 10  Cabin        204 non-null    object \n",
            " 11  Embarked     889 non-null    object \n",
            "dtypes: float64(2), int64(5), object(5)\n",
            "memory usage: 83.7+ KB\n"
          ],
          "name": "stdout"
        }
      ]
    },
    {
      "cell_type": "code",
      "metadata": {
        "trusted": true,
        "colab": {
          "base_uri": "https://localhost:8080/"
        },
        "id": "TQQb6h1jKFWk",
        "outputId": "9c3a2572-41fe-4f69-9541-aebbcf7bde00"
      },
      "source": [
        "df.columns"
      ],
      "execution_count": 11,
      "outputs": [
        {
          "output_type": "execute_result",
          "data": {
            "text/plain": [
              "Index(['PassengerId', 'Survived', 'Pclass', 'Name', 'Sex', 'Age', 'SibSp',\n",
              "       'Parch', 'Ticket', 'Fare', 'Cabin', 'Embarked'],\n",
              "      dtype='object')"
            ]
          },
          "metadata": {
            "tags": []
          },
          "execution_count": 11
        }
      ]
    },
    {
      "cell_type": "code",
      "metadata": {
        "trusted": true,
        "colab": {
          "base_uri": "https://localhost:8080/",
          "height": 300
        },
        "id": "vhma2eY9KFWl",
        "outputId": "bb424ed7-6079-45ab-f4d2-f2973877d7cb"
      },
      "source": [
        "df.describe()"
      ],
      "execution_count": 12,
      "outputs": [
        {
          "output_type": "execute_result",
          "data": {
            "text/html": [
              "<div>\n",
              "<style scoped>\n",
              "    .dataframe tbody tr th:only-of-type {\n",
              "        vertical-align: middle;\n",
              "    }\n",
              "\n",
              "    .dataframe tbody tr th {\n",
              "        vertical-align: top;\n",
              "    }\n",
              "\n",
              "    .dataframe thead th {\n",
              "        text-align: right;\n",
              "    }\n",
              "</style>\n",
              "<table border=\"1\" class=\"dataframe\">\n",
              "  <thead>\n",
              "    <tr style=\"text-align: right;\">\n",
              "      <th></th>\n",
              "      <th>PassengerId</th>\n",
              "      <th>Survived</th>\n",
              "      <th>Pclass</th>\n",
              "      <th>Age</th>\n",
              "      <th>SibSp</th>\n",
              "      <th>Parch</th>\n",
              "      <th>Fare</th>\n",
              "    </tr>\n",
              "  </thead>\n",
              "  <tbody>\n",
              "    <tr>\n",
              "      <th>count</th>\n",
              "      <td>891.000000</td>\n",
              "      <td>891.000000</td>\n",
              "      <td>891.000000</td>\n",
              "      <td>714.000000</td>\n",
              "      <td>891.000000</td>\n",
              "      <td>891.000000</td>\n",
              "      <td>891.000000</td>\n",
              "    </tr>\n",
              "    <tr>\n",
              "      <th>mean</th>\n",
              "      <td>446.000000</td>\n",
              "      <td>0.383838</td>\n",
              "      <td>2.308642</td>\n",
              "      <td>29.699118</td>\n",
              "      <td>0.523008</td>\n",
              "      <td>0.381594</td>\n",
              "      <td>32.204208</td>\n",
              "    </tr>\n",
              "    <tr>\n",
              "      <th>std</th>\n",
              "      <td>257.353842</td>\n",
              "      <td>0.486592</td>\n",
              "      <td>0.836071</td>\n",
              "      <td>14.526497</td>\n",
              "      <td>1.102743</td>\n",
              "      <td>0.806057</td>\n",
              "      <td>49.693429</td>\n",
              "    </tr>\n",
              "    <tr>\n",
              "      <th>min</th>\n",
              "      <td>1.000000</td>\n",
              "      <td>0.000000</td>\n",
              "      <td>1.000000</td>\n",
              "      <td>0.420000</td>\n",
              "      <td>0.000000</td>\n",
              "      <td>0.000000</td>\n",
              "      <td>0.000000</td>\n",
              "    </tr>\n",
              "    <tr>\n",
              "      <th>25%</th>\n",
              "      <td>223.500000</td>\n",
              "      <td>0.000000</td>\n",
              "      <td>2.000000</td>\n",
              "      <td>20.125000</td>\n",
              "      <td>0.000000</td>\n",
              "      <td>0.000000</td>\n",
              "      <td>7.910400</td>\n",
              "    </tr>\n",
              "    <tr>\n",
              "      <th>50%</th>\n",
              "      <td>446.000000</td>\n",
              "      <td>0.000000</td>\n",
              "      <td>3.000000</td>\n",
              "      <td>28.000000</td>\n",
              "      <td>0.000000</td>\n",
              "      <td>0.000000</td>\n",
              "      <td>14.454200</td>\n",
              "    </tr>\n",
              "    <tr>\n",
              "      <th>75%</th>\n",
              "      <td>668.500000</td>\n",
              "      <td>1.000000</td>\n",
              "      <td>3.000000</td>\n",
              "      <td>38.000000</td>\n",
              "      <td>1.000000</td>\n",
              "      <td>0.000000</td>\n",
              "      <td>31.000000</td>\n",
              "    </tr>\n",
              "    <tr>\n",
              "      <th>max</th>\n",
              "      <td>891.000000</td>\n",
              "      <td>1.000000</td>\n",
              "      <td>3.000000</td>\n",
              "      <td>80.000000</td>\n",
              "      <td>8.000000</td>\n",
              "      <td>6.000000</td>\n",
              "      <td>512.329200</td>\n",
              "    </tr>\n",
              "  </tbody>\n",
              "</table>\n",
              "</div>"
            ],
            "text/plain": [
              "       PassengerId    Survived      Pclass  ...       SibSp       Parch        Fare\n",
              "count   891.000000  891.000000  891.000000  ...  891.000000  891.000000  891.000000\n",
              "mean    446.000000    0.383838    2.308642  ...    0.523008    0.381594   32.204208\n",
              "std     257.353842    0.486592    0.836071  ...    1.102743    0.806057   49.693429\n",
              "min       1.000000    0.000000    1.000000  ...    0.000000    0.000000    0.000000\n",
              "25%     223.500000    0.000000    2.000000  ...    0.000000    0.000000    7.910400\n",
              "50%     446.000000    0.000000    3.000000  ...    0.000000    0.000000   14.454200\n",
              "75%     668.500000    1.000000    3.000000  ...    1.000000    0.000000   31.000000\n",
              "max     891.000000    1.000000    3.000000  ...    8.000000    6.000000  512.329200\n",
              "\n",
              "[8 rows x 7 columns]"
            ]
          },
          "metadata": {
            "tags": []
          },
          "execution_count": 12
        }
      ]
    },
    {
      "cell_type": "markdown",
      "metadata": {
        "id": "aB4IOD6uKFWl"
      },
      "source": [
        "# Data Visualization"
      ]
    },
    {
      "cell_type": "code",
      "metadata": {
        "colab": {
          "base_uri": "https://localhost:8080/",
          "height": 333
        },
        "id": "zpWOYw8nKFWl",
        "outputId": "fd1fc363-9cc8-4a5c-e44f-fce0e07e706f"
      },
      "source": [
        "sns.heatmap(df.isnull(),yticklabels=False,cmap='viridis',cbar=False)\n"
      ],
      "execution_count": 13,
      "outputs": [
        {
          "output_type": "execute_result",
          "data": {
            "text/plain": [
              "<matplotlib.axes._subplots.AxesSubplot at 0x7fa87ab204d0>"
            ]
          },
          "metadata": {
            "tags": []
          },
          "execution_count": 13
        },
        {
          "output_type": "display_data",
          "data": {
            "image/png": "[encoded data removed]",
            "text/plain": [
              "<Figure size 432x288 with 1 Axes>"
            ]
          },
          "metadata": {
            "tags": [],
            "needs_background": "light"
          }
        }
      ]
    },
    {
      "cell_type": "markdown",
      "metadata": {
        "id": "cG8JRbKiKFWm"
      },
      "source": [
        "**visualizing null values in the dataframe(dataset)**"
      ]
    },
    {
      "cell_type": "code",
      "metadata": {
        "colab": {
          "base_uri": "https://localhost:8080/",
          "height": 297
        },
        "id": "NhnApBPMKFWm",
        "outputId": "400a4fc3-d48e-4664-eda9-d7f32bb4a9df"
      },
      "source": [
        "sns.countplot(x='Survived',data=df,hue='Sex')\n"
      ],
      "execution_count": 14,
      "outputs": [
        {
          "output_type": "execute_result",
          "data": {
            "text/plain": [
              "<matplotlib.axes._subplots.AxesSubplot at 0x7fa8729b4a10>"
            ]
          },
          "metadata": {
            "tags": []
          },
          "execution_count": 14
        },
        {
          "output_type": "display_data",
          "data": {
            "image/png": "[encoded data removed]",
            "text/plain": [
              "<Figure size 432x288 with 1 Axes>"
            ]
          },
          "metadata": {
            "tags": [],
            "needs_background": "light"
          }
        }
      ]
    },
    {
      "cell_type": "markdown",
      "metadata": {
        "id": "Ehpc23bcKFWm"
      },
      "source": [
        "**plot showing number of passengers survived(1) and dead(0) based on gender**"
      ]
    },
    {
      "cell_type": "code",
      "metadata": {
        "colab": {
          "base_uri": "https://localhost:8080/",
          "height": 297
        },
        "id": "jTY6rr6tKFWn",
        "outputId": "8d77a664-4175-46c8-c07d-ad633347ab3e"
      },
      "source": [
        "sns.countplot(x='Survived',data=df,hue='Pclass')\n"
      ],
      "execution_count": 15,
      "outputs": [
        {
          "output_type": "execute_result",
          "data": {
            "text/plain": [
              "<matplotlib.axes._subplots.AxesSubplot at 0x7fa8724c0590>"
            ]
          },
          "metadata": {
            "tags": []
          },
          "execution_count": 15
        },
        {
          "output_type": "display_data",
          "data": {
            "image/png": "[encoded data removed]",
            "text/plain": [
              "<Figure size 432x288 with 1 Axes>"
            ]
          },
          "metadata": {
            "tags": [],
            "needs_background": "light"
          }
        }
      ]
    },
    {
      "cell_type": "markdown",
      "metadata": {
        "id": "5cXJ6Kr9KFWn"
      },
      "source": [
        "plot showing number of passengers survived(1) and dead(0) based on Passenger Class"
      ]
    },
    {
      "cell_type": "code",
      "metadata": {
        "colab": {
          "base_uri": "https://localhost:8080/",
          "height": 1000
        },
        "id": "k4f-eF5XKFWn",
        "outputId": "079ae75c-597f-43dc-fc79-f4212070adcf"
      },
      "source": [
        "f=plt.figure(figsize=(30,30))\n",
        "sns.countplot(x='Survived',data=df,hue='Age')\n",
        "plt.tight_layout()"
      ],
      "execution_count": 16,
      "outputs": [
        {
          "output_type": "display_data",
          "data": {
            "image/png": "[encoded data removed]",
            "text/plain": [
              "<Figure size 2160x2160 with 1 Axes>"
            ]
          },
          "metadata": {
            "tags": [],
            "needs_background": "light"
          }
        }
      ]
    },
    {
      "cell_type": "markdown",
      "metadata": {
        "id": "4qWx7845KFWo"
      },
      "source": [
        "**plot showing number of passengers survived(1) and dead(0) based on Age**"
      ]
    },
    {
      "cell_type": "code",
      "metadata": {
        "colab": {
          "base_uri": "https://localhost:8080/",
          "height": 351
        },
        "id": "xERGwOcNKFWo",
        "outputId": "118dbdf3-463f-4b1e-a92e-de6023566294"
      },
      "source": [
        "sns.distplot(df['Age'].dropna(),kde=False,bins=30)\n"
      ],
      "execution_count": 17,
      "outputs": [
        {
          "output_type": "stream",
          "text": [
            "/usr/local/lib/python3.7/dist-packages/seaborn/distributions.py:2557: FutureWarning: `distplot` is a deprecated function and will be removed in a future version. Please adapt your code to use either `displot` (a figure-level function with similar flexibility) or `histplot` (an axes-level function for histograms).\n",
            "  warnings.warn(msg, FutureWarning)\n"
          ],
          "name": "stderr"
        },
        {
          "output_type": "execute_result",
          "data": {
            "text/plain": [
              "<matplotlib.axes._subplots.AxesSubplot at 0x7fa86f550c90>"
            ]
          },
          "metadata": {
            "tags": []
          },
          "execution_count": 17
        },
        {
          "output_type": "display_data",
          "data": {
            "image/png": "[encoded data removed]",
            "text/plain": [
              "<Figure size 432x288 with 1 Axes>"
            ]
          },
          "metadata": {
            "tags": [],
            "needs_background": "light"
          }
        }
      ]
    },
    {
      "cell_type": "markdown",
      "metadata": {
        "id": "yd9AOHPFKFWo"
      },
      "source": [
        "**plot showing the age distribution**"
      ]
    },
    {
      "cell_type": "code",
      "metadata": {
        "colab": {
          "base_uri": "https://localhost:8080/",
          "height": 297
        },
        "id": "rtxAYhqiKFWo",
        "outputId": "75d592a3-fc4e-4e79-aa64-8d7975ae8667"
      },
      "source": [
        "sns.countplot(x='SibSp',data=df)\n"
      ],
      "execution_count": 18,
      "outputs": [
        {
          "output_type": "execute_result",
          "data": {
            "text/plain": [
              "<matplotlib.axes._subplots.AxesSubplot at 0x7fa86f504f50>"
            ]
          },
          "metadata": {
            "tags": []
          },
          "execution_count": 18
        },
        {
          "output_type": "display_data",
          "data": {
            "image/png": "[encoded data removed]",
            "text/plain": [
              "<Figure size 432x288 with 1 Axes>"
            ]
          },
          "metadata": {
            "tags": [],
            "needs_background": "light"
          }
        }
      ]
    },
    {
      "cell_type": "markdown",
      "metadata": {
        "id": "VAOUMbZrKFWo"
      },
      "source": [
        "**plot showing siblings distribution**"
      ]
    },
    {
      "cell_type": "code",
      "metadata": {
        "colab": {
          "base_uri": "https://localhost:8080/",
          "height": 393
        },
        "id": "RmdSlxwxKFWp",
        "outputId": "0c1d6ba6-7047-411d-8d44-1d1c1f470c1f"
      },
      "source": [
        "df['Fare'].hist(bins=40,figsize=(12,6))\n"
      ],
      "execution_count": 19,
      "outputs": [
        {
          "output_type": "execute_result",
          "data": {
            "text/plain": [
              "<matplotlib.axes._subplots.AxesSubplot at 0x7fa86f435550>"
            ]
          },
          "metadata": {
            "tags": []
          },
          "execution_count": 19
        },
        {
          "output_type": "display_data",
          "data": {
            "image/png": "[encoded data removed]",
            "text/plain": [
              "<Figure size 864x432 with 1 Axes>"
            ]
          },
          "metadata": {
            "tags": [],
            "needs_background": "light"
          }
        }
      ]
    },
    {
      "cell_type": "markdown",
      "metadata": {
        "id": "OzmpaNDoKFWp"
      },
      "source": [
        "**plot showing Fare distribution**"
      ]
    },
    {
      "cell_type": "markdown",
      "metadata": {
        "id": "CppRT-L9KFWp"
      },
      "source": [
        "# Data Cleaning and Feature Engineering"
      ]
    },
    {
      "cell_type": "code",
      "metadata": {
        "colab": {
          "base_uri": "https://localhost:8080/",
          "height": 206
        },
        "id": "120m41QoKFWp",
        "outputId": "944a29f4-57b7-44e6-ceb4-e50c9980ed36"
      },
      "source": [
        "df.drop(['Cabin'],axis=1,inplace=True)\n",
        "df.head()"
      ],
      "execution_count": 20,
      "outputs": [
        {
          "output_type": "execute_result",
          "data": {
            "text/html": [
              "<div>\n",
              "<style scoped>\n",
              "    .dataframe tbody tr th:only-of-type {\n",
              "        vertical-align: middle;\n",
              "    }\n",
              "\n",
              "    .dataframe tbody tr th {\n",
              "        vertical-align: top;\n",
              "    }\n",
              "\n",
              "    .dataframe thead th {\n",
              "        text-align: right;\n",
              "    }\n",
              "</style>\n",
              "<table border=\"1\" class=\"dataframe\">\n",
              "  <thead>\n",
              "    <tr style=\"text-align: right;\">\n",
              "      <th></th>\n",
              "      <th>PassengerId</th>\n",
              "      <th>Survived</th>\n",
              "      <th>Pclass</th>\n",
              "      <th>Name</th>\n",
              "      <th>Sex</th>\n",
              "      <th>Age</th>\n",
              "      <th>SibSp</th>\n",
              "      <th>Parch</th>\n",
              "      <th>Ticket</th>\n",
              "      <th>Fare</th>\n",
              "      <th>Embarked</th>\n",
              "    </tr>\n",
              "  </thead>\n",
              "  <tbody>\n",
              "    <tr>\n",
              "      <th>0</th>\n",
              "      <td>1</td>\n",
              "      <td>0</td>\n",
              "      <td>3</td>\n",
              "      <td>Braund, Mr. Owen Harris</td>\n",
              "      <td>male</td>\n",
              "      <td>22.0</td>\n",
              "      <td>1</td>\n",
              "      <td>0</td>\n",
              "      <td>A/5 21171</td>\n",
              "      <td>7.2500</td>\n",
              "      <td>S</td>\n",
              "    </tr>\n",
              "    <tr>\n",
              "      <th>1</th>\n",
              "      <td>2</td>\n",
              "      <td>1</td>\n",
              "      <td>1</td>\n",
              "      <td>Cumings, Mrs. John Bradley (Florence Briggs Th...</td>\n",
              "      <td>female</td>\n",
              "      <td>38.0</td>\n",
              "      <td>1</td>\n",
              "      <td>0</td>\n",
              "      <td>PC 17599</td>\n",
              "      <td>71.2833</td>\n",
              "      <td>C</td>\n",
              "    </tr>\n",
              "    <tr>\n",
              "      <th>2</th>\n",
              "      <td>3</td>\n",
              "      <td>1</td>\n",
              "      <td>3</td>\n",
              "      <td>Heikkinen, Miss. Laina</td>\n",
              "      <td>female</td>\n",
              "      <td>26.0</td>\n",
              "      <td>0</td>\n",
              "      <td>0</td>\n",
              "      <td>STON/O2. 3101282</td>\n",
              "      <td>7.9250</td>\n",
              "      <td>S</td>\n",
              "    </tr>\n",
              "    <tr>\n",
              "      <th>3</th>\n",
              "      <td>4</td>\n",
              "      <td>1</td>\n",
              "      <td>1</td>\n",
              "      <td>Futrelle, Mrs. Jacques Heath (Lily May Peel)</td>\n",
              "      <td>female</td>\n",
              "      <td>35.0</td>\n",
              "      <td>1</td>\n",
              "      <td>0</td>\n",
              "      <td>113803</td>\n",
              "      <td>53.1000</td>\n",
              "      <td>S</td>\n",
              "    </tr>\n",
              "    <tr>\n",
              "      <th>4</th>\n",
              "      <td>5</td>\n",
              "      <td>0</td>\n",
              "      <td>3</td>\n",
              "      <td>Allen, Mr. William Henry</td>\n",
              "      <td>male</td>\n",
              "      <td>35.0</td>\n",
              "      <td>0</td>\n",
              "      <td>0</td>\n",
              "      <td>373450</td>\n",
              "      <td>8.0500</td>\n",
              "      <td>S</td>\n",
              "    </tr>\n",
              "  </tbody>\n",
              "</table>\n",
              "</div>"
            ],
            "text/plain": [
              "   PassengerId  Survived  Pclass  ...            Ticket     Fare  Embarked\n",
              "0            1         0       3  ...         A/5 21171   7.2500         S\n",
              "1            2         1       1  ...          PC 17599  71.2833         C\n",
              "2            3         1       3  ...  STON/O2. 3101282   7.9250         S\n",
              "3            4         1       1  ...            113803  53.1000         S\n",
              "4            5         0       3  ...            373450   8.0500         S\n",
              "\n",
              "[5 rows x 11 columns]"
            ]
          },
          "metadata": {
            "tags": []
          },
          "execution_count": 20
        }
      ]
    },
    {
      "cell_type": "markdown",
      "metadata": {
        "id": "EPFxYyooKFWp"
      },
      "source": [
        "> **Removing Cabin column since it doesn't contribute in the classification process and also because this column has many null values**"
      ]
    },
    {
      "cell_type": "code",
      "metadata": {
        "colab": {
          "base_uri": "https://localhost:8080/",
          "height": 337
        },
        "id": "Tb_MntyzKFWq",
        "outputId": "2e3c5718-16bb-4c5f-e44a-88b36d24ac12"
      },
      "source": [
        "sns.heatmap(df.isnull())\n"
      ],
      "execution_count": 21,
      "outputs": [
        {
          "output_type": "execute_result",
          "data": {
            "text/plain": [
              "<matplotlib.axes._subplots.AxesSubplot at 0x7fa86f490290>"
            ]
          },
          "metadata": {
            "tags": []
          },
          "execution_count": 21
        },
        {
          "output_type": "display_data",
          "data": {
            "image/png": "[encoded data removed]",
            "text/plain": [
              "<Figure size 432x288 with 2 Axes>"
            ]
          },
          "metadata": {
            "tags": [],
            "needs_background": "light"
          }
        }
      ]
    },
    {
      "cell_type": "markdown",
      "metadata": {
        "id": "QpbGKZ3CKFWq"
      },
      "source": [
        "**Null values distribution**"
      ]
    },
    {
      "cell_type": "markdown",
      "metadata": {
        "id": "qoruZQgtKFWq"
      },
      "source": [
        "> # Functions for Feature Engineering"
      ]
    },
    {
      "cell_type": "code",
      "metadata": {
        "id": "I5LtOuDCKFWq"
      },
      "source": [
        "def acheck(cols):\n",
        "    age=cols[0]\n",
        "    pc=cols[1]\n",
        "    \n",
        "    if pd.isnull(age):\n",
        "        if pc==1:\n",
        "            return 37\n",
        "        elif pc==2:\n",
        "            return 29\n",
        "        else:\n",
        "            return 24\n",
        "        \n",
        "    else:\n",
        "        return age\n",
        "    \n",
        "def echeck(cols):\n",
        "    emb=cols[0]\n",
        "    if emb=='S':\n",
        "        return 1\n",
        "    elif emb=='C':\n",
        "        return 2\n",
        "    elif emb=='Q':\n",
        "        return 3\n",
        "    else:\n",
        "        return 9\n",
        "def pcheck(cols):\n",
        "    par=cols[0]\n",
        "    if par==0:\n",
        "        return 0\n",
        "    elif par==1 or par==2 or par==3 or par==4:\n",
        "        return 1\n",
        "    elif par==5 or par==6:\n",
        "        return 2\n",
        "    else:\n",
        "        return 3"
      ],
      "execution_count": 22,
      "outputs": []
    },
    {
      "cell_type": "code",
      "metadata": {
        "id": "Dj1CKhVCKFWr"
      },
      "source": [
        "df['Age']=df[['Age','Pclass']].apply(acheck,axis=1)"
      ],
      "execution_count": 23,
      "outputs": []
    },
    {
      "cell_type": "markdown",
      "metadata": {
        "id": "4gCXgEQsKFWr"
      },
      "source": [
        "**missing values in Age column are filled using this function: acheck(...)**"
      ]
    },
    {
      "cell_type": "code",
      "metadata": {
        "id": "FeWGyL-QKFWr"
      },
      "source": [
        "df['Embarked']=df[['Embarked']].apply(echeck,axis=1)"
      ],
      "execution_count": 24,
      "outputs": []
    },
    {
      "cell_type": "markdown",
      "metadata": {
        "id": "oEQK8s0aKFWr"
      },
      "source": [
        "**values in Embarked column are converted to numerical values**"
      ]
    },
    {
      "cell_type": "code",
      "metadata": {
        "id": "ESwnDNM8KFWr"
      },
      "source": [
        "df['Parch']=df[['Parch']].apply(pcheck,axis=1)"
      ],
      "execution_count": 25,
      "outputs": []
    },
    {
      "cell_type": "markdown",
      "metadata": {
        "id": "jci1j4xYKFWr"
      },
      "source": [
        "**values in Parch column are converted to numerical values**"
      ]
    },
    {
      "cell_type": "code",
      "metadata": {
        "colab": {
          "base_uri": "https://localhost:8080/",
          "height": 337
        },
        "id": "Uwkzo6K9KFWs",
        "outputId": "b0e915b5-3b86-4b7e-daac-1f24f937d9e1"
      },
      "source": [
        "sns.heatmap(df.isnull())\n"
      ],
      "execution_count": 26,
      "outputs": [
        {
          "output_type": "execute_result",
          "data": {
            "text/plain": [
              "<matplotlib.axes._subplots.AxesSubplot at 0x7fa86f213450>"
            ]
          },
          "metadata": {
            "tags": []
          },
          "execution_count": 26
        },
        {
          "output_type": "display_data",
          "data": {
            "image/png": "[encoded data removed]",
            "text/plain": [
              "<Figure size 432x288 with 2 Axes>"
            ]
          },
          "metadata": {
            "tags": [],
            "needs_background": "light"
          }
        }
      ]
    },
    {
      "cell_type": "markdown",
      "metadata": {
        "id": "5XmjqRKDKFWs"
      },
      "source": [
        "**No Null values**"
      ]
    },
    {
      "cell_type": "code",
      "metadata": {
        "colab": {
          "base_uri": "https://localhost:8080/",
          "height": 206
        },
        "id": "6_9kHeW7KFWs",
        "outputId": "5893edb2-ec64-48e9-ded6-b1374e909b12"
      },
      "source": [
        "df.head()"
      ],
      "execution_count": 27,
      "outputs": [
        {
          "output_type": "execute_result",
          "data": {
            "text/html": [
              "<div>\n",
              "<style scoped>\n",
              "    .dataframe tbody tr th:only-of-type {\n",
              "        vertical-align: middle;\n",
              "    }\n",
              "\n",
              "    .dataframe tbody tr th {\n",
              "        vertical-align: top;\n",
              "    }\n",
              "\n",
              "    .dataframe thead th {\n",
              "        text-align: right;\n",
              "    }\n",
              "</style>\n",
              "<table border=\"1\" class=\"dataframe\">\n",
              "  <thead>\n",
              "    <tr style=\"text-align: right;\">\n",
              "      <th></th>\n",
              "      <th>PassengerId</th>\n",
              "      <th>Survived</th>\n",
              "      <th>Pclass</th>\n",
              "      <th>Name</th>\n",
              "      <th>Sex</th>\n",
              "      <th>Age</th>\n",
              "      <th>SibSp</th>\n",
              "      <th>Parch</th>\n",
              "      <th>Ticket</th>\n",
              "      <th>Fare</th>\n",
              "      <th>Embarked</th>\n",
              "    </tr>\n",
              "  </thead>\n",
              "  <tbody>\n",
              "    <tr>\n",
              "      <th>0</th>\n",
              "      <td>1</td>\n",
              "      <td>0</td>\n",
              "      <td>3</td>\n",
              "      <td>Braund, Mr. Owen Harris</td>\n",
              "      <td>male</td>\n",
              "      <td>22.0</td>\n",
              "      <td>1</td>\n",
              "      <td>0</td>\n",
              "      <td>A/5 21171</td>\n",
              "      <td>7.2500</td>\n",
              "      <td>1</td>\n",
              "    </tr>\n",
              "    <tr>\n",
              "      <th>1</th>\n",
              "      <td>2</td>\n",
              "      <td>1</td>\n",
              "      <td>1</td>\n",
              "      <td>Cumings, Mrs. John Bradley (Florence Briggs Th...</td>\n",
              "      <td>female</td>\n",
              "      <td>38.0</td>\n",
              "      <td>1</td>\n",
              "      <td>0</td>\n",
              "      <td>PC 17599</td>\n",
              "      <td>71.2833</td>\n",
              "      <td>2</td>\n",
              "    </tr>\n",
              "    <tr>\n",
              "      <th>2</th>\n",
              "      <td>3</td>\n",
              "      <td>1</td>\n",
              "      <td>3</td>\n",
              "      <td>Heikkinen, Miss. Laina</td>\n",
              "      <td>female</td>\n",
              "      <td>26.0</td>\n",
              "      <td>0</td>\n",
              "      <td>0</td>\n",
              "      <td>STON/O2. 3101282</td>\n",
              "      <td>7.9250</td>\n",
              "      <td>1</td>\n",
              "    </tr>\n",
              "    <tr>\n",
              "      <th>3</th>\n",
              "      <td>4</td>\n",
              "      <td>1</td>\n",
              "      <td>1</td>\n",
              "      <td>Futrelle, Mrs. Jacques Heath (Lily May Peel)</td>\n",
              "      <td>female</td>\n",
              "      <td>35.0</td>\n",
              "      <td>1</td>\n",
              "      <td>0</td>\n",
              "      <td>113803</td>\n",
              "      <td>53.1000</td>\n",
              "      <td>1</td>\n",
              "    </tr>\n",
              "    <tr>\n",
              "      <th>4</th>\n",
              "      <td>5</td>\n",
              "      <td>0</td>\n",
              "      <td>3</td>\n",
              "      <td>Allen, Mr. William Henry</td>\n",
              "      <td>male</td>\n",
              "      <td>35.0</td>\n",
              "      <td>0</td>\n",
              "      <td>0</td>\n",
              "      <td>373450</td>\n",
              "      <td>8.0500</td>\n",
              "      <td>1</td>\n",
              "    </tr>\n",
              "  </tbody>\n",
              "</table>\n",
              "</div>"
            ],
            "text/plain": [
              "   PassengerId  Survived  Pclass  ...            Ticket     Fare  Embarked\n",
              "0            1         0       3  ...         A/5 21171   7.2500         1\n",
              "1            2         1       1  ...          PC 17599  71.2833         2\n",
              "2            3         1       3  ...  STON/O2. 3101282   7.9250         1\n",
              "3            4         1       1  ...            113803  53.1000         1\n",
              "4            5         0       3  ...            373450   8.0500         1\n",
              "\n",
              "[5 rows x 11 columns]"
            ]
          },
          "metadata": {
            "tags": []
          },
          "execution_count": 27
        }
      ]
    },
    {
      "cell_type": "markdown",
      "metadata": {
        "id": "sPWip-O-KFWs"
      },
      "source": [
        "> #        pandas.get_dummies(...)\n"
      ]
    },
    {
      "cell_type": "markdown",
      "metadata": {
        "id": "VIMCZVtMKFWs"
      },
      "source": [
        "**Convert categorical variable into dummy/indicator variables**"
      ]
    },
    {
      "cell_type": "code",
      "metadata": {
        "id": "E8SO7hHmKFWt"
      },
      "source": [
        "sex=pd.get_dummies(df['Sex'],drop_first=True)"
      ],
      "execution_count": 28,
      "outputs": []
    },
    {
      "cell_type": "code",
      "metadata": {
        "colab": {
          "base_uri": "https://localhost:8080/",
          "height": 423
        },
        "id": "mazE26_WKFWt",
        "outputId": "aae92b2f-1ff0-4c4f-9c12-fe79c06fb34a"
      },
      "source": [
        "sex"
      ],
      "execution_count": 29,
      "outputs": [
        {
          "output_type": "execute_result",
          "data": {
            "text/html": [
              "<div>\n",
              "<style scoped>\n",
              "    .dataframe tbody tr th:only-of-type {\n",
              "        vertical-align: middle;\n",
              "    }\n",
              "\n",
              "    .dataframe tbody tr th {\n",
              "        vertical-align: top;\n",
              "    }\n",
              "\n",
              "    .dataframe thead th {\n",
              "        text-align: right;\n",
              "    }\n",
              "</style>\n",
              "<table border=\"1\" class=\"dataframe\">\n",
              "  <thead>\n",
              "    <tr style=\"text-align: right;\">\n",
              "      <th></th>\n",
              "      <th>male</th>\n",
              "    </tr>\n",
              "  </thead>\n",
              "  <tbody>\n",
              "    <tr>\n",
              "      <th>0</th>\n",
              "      <td>1</td>\n",
              "    </tr>\n",
              "    <tr>\n",
              "      <th>1</th>\n",
              "      <td>0</td>\n",
              "    </tr>\n",
              "    <tr>\n",
              "      <th>2</th>\n",
              "      <td>0</td>\n",
              "    </tr>\n",
              "    <tr>\n",
              "      <th>3</th>\n",
              "      <td>0</td>\n",
              "    </tr>\n",
              "    <tr>\n",
              "      <th>4</th>\n",
              "      <td>1</td>\n",
              "    </tr>\n",
              "    <tr>\n",
              "      <th>...</th>\n",
              "      <td>...</td>\n",
              "    </tr>\n",
              "    <tr>\n",
              "      <th>886</th>\n",
              "      <td>1</td>\n",
              "    </tr>\n",
              "    <tr>\n",
              "      <th>887</th>\n",
              "      <td>0</td>\n",
              "    </tr>\n",
              "    <tr>\n",
              "      <th>888</th>\n",
              "      <td>0</td>\n",
              "    </tr>\n",
              "    <tr>\n",
              "      <th>889</th>\n",
              "      <td>1</td>\n",
              "    </tr>\n",
              "    <tr>\n",
              "      <th>890</th>\n",
              "      <td>1</td>\n",
              "    </tr>\n",
              "  </tbody>\n",
              "</table>\n",
              "<p>891 rows × 1 columns</p>\n",
              "</div>"
            ],
            "text/plain": [
              "     male\n",
              "0       1\n",
              "1       0\n",
              "2       0\n",
              "3       0\n",
              "4       1\n",
              "..    ...\n",
              "886     1\n",
              "887     0\n",
              "888     0\n",
              "889     1\n",
              "890     1\n",
              "\n",
              "[891 rows x 1 columns]"
            ]
          },
          "metadata": {
            "tags": []
          },
          "execution_count": 29
        }
      ]
    },
    {
      "cell_type": "code",
      "metadata": {
        "id": "B6s6oh9EKFWt"
      },
      "source": [
        "Pc=pd.get_dummies(df['Pclass'],drop_first=True)"
      ],
      "execution_count": 30,
      "outputs": []
    },
    {
      "cell_type": "code",
      "metadata": {
        "colab": {
          "base_uri": "https://localhost:8080/",
          "height": 423
        },
        "id": "rIuB7ZdCKFWt",
        "outputId": "0a3d69e8-aa06-46cc-c56b-7e3e3954cfa9"
      },
      "source": [
        "Pc"
      ],
      "execution_count": 31,
      "outputs": [
        {
          "output_type": "execute_result",
          "data": {
            "text/html": [
              "<div>\n",
              "<style scoped>\n",
              "    .dataframe tbody tr th:only-of-type {\n",
              "        vertical-align: middle;\n",
              "    }\n",
              "\n",
              "    .dataframe tbody tr th {\n",
              "        vertical-align: top;\n",
              "    }\n",
              "\n",
              "    .dataframe thead th {\n",
              "        text-align: right;\n",
              "    }\n",
              "</style>\n",
              "<table border=\"1\" class=\"dataframe\">\n",
              "  <thead>\n",
              "    <tr style=\"text-align: right;\">\n",
              "      <th></th>\n",
              "      <th>2</th>\n",
              "      <th>3</th>\n",
              "    </tr>\n",
              "  </thead>\n",
              "  <tbody>\n",
              "    <tr>\n",
              "      <th>0</th>\n",
              "      <td>0</td>\n",
              "      <td>1</td>\n",
              "    </tr>\n",
              "    <tr>\n",
              "      <th>1</th>\n",
              "      <td>0</td>\n",
              "      <td>0</td>\n",
              "    </tr>\n",
              "    <tr>\n",
              "      <th>2</th>\n",
              "      <td>0</td>\n",
              "      <td>1</td>\n",
              "    </tr>\n",
              "    <tr>\n",
              "      <th>3</th>\n",
              "      <td>0</td>\n",
              "      <td>0</td>\n",
              "    </tr>\n",
              "    <tr>\n",
              "      <th>4</th>\n",
              "      <td>0</td>\n",
              "      <td>1</td>\n",
              "    </tr>\n",
              "    <tr>\n",
              "      <th>...</th>\n",
              "      <td>...</td>\n",
              "      <td>...</td>\n",
              "    </tr>\n",
              "    <tr>\n",
              "      <th>886</th>\n",
              "      <td>1</td>\n",
              "      <td>0</td>\n",
              "    </tr>\n",
              "    <tr>\n",
              "      <th>887</th>\n",
              "      <td>0</td>\n",
              "      <td>0</td>\n",
              "    </tr>\n",
              "    <tr>\n",
              "      <th>888</th>\n",
              "      <td>0</td>\n",
              "      <td>1</td>\n",
              "    </tr>\n",
              "    <tr>\n",
              "      <th>889</th>\n",
              "      <td>0</td>\n",
              "      <td>0</td>\n",
              "    </tr>\n",
              "    <tr>\n",
              "      <th>890</th>\n",
              "      <td>0</td>\n",
              "      <td>1</td>\n",
              "    </tr>\n",
              "  </tbody>\n",
              "</table>\n",
              "<p>891 rows × 2 columns</p>\n",
              "</div>"
            ],
            "text/plain": [
              "     2  3\n",
              "0    0  1\n",
              "1    0  0\n",
              "2    0  1\n",
              "3    0  0\n",
              "4    0  1\n",
              "..  .. ..\n",
              "886  1  0\n",
              "887  0  0\n",
              "888  0  1\n",
              "889  0  0\n",
              "890  0  1\n",
              "\n",
              "[891 rows x 2 columns]"
            ]
          },
          "metadata": {
            "tags": []
          },
          "execution_count": 31
        }
      ]
    },
    {
      "cell_type": "code",
      "metadata": {
        "id": "l4pkZ6XbKFWt"
      },
      "source": [
        "df=pd.concat([df,sex,Pc],axis=1)"
      ],
      "execution_count": 32,
      "outputs": []
    },
    {
      "cell_type": "markdown",
      "metadata": {
        "id": "q7lc2gKfKFWu"
      },
      "source": [
        "**Concatenating the dataframe with new numerical columns**"
      ]
    },
    {
      "cell_type": "code",
      "metadata": {
        "colab": {
          "base_uri": "https://localhost:8080/",
          "height": 206
        },
        "id": "lG7PtxJhKFWu",
        "outputId": "7f015b03-9c41-4c10-b5eb-741c61a3e939"
      },
      "source": [
        "df.head()"
      ],
      "execution_count": 33,
      "outputs": [
        {
          "output_type": "execute_result",
          "data": {
            "text/html": [
              "<div>\n",
              "<style scoped>\n",
              "    .dataframe tbody tr th:only-of-type {\n",
              "        vertical-align: middle;\n",
              "    }\n",
              "\n",
              "    .dataframe tbody tr th {\n",
              "        vertical-align: top;\n",
              "    }\n",
              "\n",
              "    .dataframe thead th {\n",
              "        text-align: right;\n",
              "    }\n",
              "</style>\n",
              "<table border=\"1\" class=\"dataframe\">\n",
              "  <thead>\n",
              "    <tr style=\"text-align: right;\">\n",
              "      <th></th>\n",
              "      <th>PassengerId</th>\n",
              "      <th>Survived</th>\n",
              "      <th>Pclass</th>\n",
              "      <th>Name</th>\n",
              "      <th>Sex</th>\n",
              "      <th>Age</th>\n",
              "      <th>SibSp</th>\n",
              "      <th>Parch</th>\n",
              "      <th>Ticket</th>\n",
              "      <th>Fare</th>\n",
              "      <th>Embarked</th>\n",
              "      <th>male</th>\n",
              "      <th>2</th>\n",
              "      <th>3</th>\n",
              "    </tr>\n",
              "  </thead>\n",
              "  <tbody>\n",
              "    <tr>\n",
              "      <th>0</th>\n",
              "      <td>1</td>\n",
              "      <td>0</td>\n",
              "      <td>3</td>\n",
              "      <td>Braund, Mr. Owen Harris</td>\n",
              "      <td>male</td>\n",
              "      <td>22.0</td>\n",
              "      <td>1</td>\n",
              "      <td>0</td>\n",
              "      <td>A/5 21171</td>\n",
              "      <td>7.2500</td>\n",
              "      <td>1</td>\n",
              "      <td>1</td>\n",
              "      <td>0</td>\n",
              "      <td>1</td>\n",
              "    </tr>\n",
              "    <tr>\n",
              "      <th>1</th>\n",
              "      <td>2</td>\n",
              "      <td>1</td>\n",
              "      <td>1</td>\n",
              "      <td>Cumings, Mrs. John Bradley (Florence Briggs Th...</td>\n",
              "      <td>female</td>\n",
              "      <td>38.0</td>\n",
              "      <td>1</td>\n",
              "      <td>0</td>\n",
              "      <td>PC 17599</td>\n",
              "      <td>71.2833</td>\n",
              "      <td>2</td>\n",
              "      <td>0</td>\n",
              "      <td>0</td>\n",
              "      <td>0</td>\n",
              "    </tr>\n",
              "    <tr>\n",
              "      <th>2</th>\n",
              "      <td>3</td>\n",
              "      <td>1</td>\n",
              "      <td>3</td>\n",
              "      <td>Heikkinen, Miss. Laina</td>\n",
              "      <td>female</td>\n",
              "      <td>26.0</td>\n",
              "      <td>0</td>\n",
              "      <td>0</td>\n",
              "      <td>STON/O2. 3101282</td>\n",
              "      <td>7.9250</td>\n",
              "      <td>1</td>\n",
              "      <td>0</td>\n",
              "      <td>0</td>\n",
              "      <td>1</td>\n",
              "    </tr>\n",
              "    <tr>\n",
              "      <th>3</th>\n",
              "      <td>4</td>\n",
              "      <td>1</td>\n",
              "      <td>1</td>\n",
              "      <td>Futrelle, Mrs. Jacques Heath (Lily May Peel)</td>\n",
              "      <td>female</td>\n",
              "      <td>35.0</td>\n",
              "      <td>1</td>\n",
              "      <td>0</td>\n",
              "      <td>113803</td>\n",
              "      <td>53.1000</td>\n",
              "      <td>1</td>\n",
              "      <td>0</td>\n",
              "      <td>0</td>\n",
              "      <td>0</td>\n",
              "    </tr>\n",
              "    <tr>\n",
              "      <th>4</th>\n",
              "      <td>5</td>\n",
              "      <td>0</td>\n",
              "      <td>3</td>\n",
              "      <td>Allen, Mr. William Henry</td>\n",
              "      <td>male</td>\n",
              "      <td>35.0</td>\n",
              "      <td>0</td>\n",
              "      <td>0</td>\n",
              "      <td>373450</td>\n",
              "      <td>8.0500</td>\n",
              "      <td>1</td>\n",
              "      <td>1</td>\n",
              "      <td>0</td>\n",
              "      <td>1</td>\n",
              "    </tr>\n",
              "  </tbody>\n",
              "</table>\n",
              "</div>"
            ],
            "text/plain": [
              "   PassengerId  Survived  Pclass  ... male  2  3\n",
              "0            1         0       3  ...    1  0  1\n",
              "1            2         1       1  ...    0  0  0\n",
              "2            3         1       3  ...    0  0  1\n",
              "3            4         1       1  ...    0  0  0\n",
              "4            5         0       3  ...    1  0  1\n",
              "\n",
              "[5 rows x 14 columns]"
            ]
          },
          "metadata": {
            "tags": []
          },
          "execution_count": 33
        }
      ]
    },
    {
      "cell_type": "code",
      "metadata": {
        "colab": {
          "base_uri": "https://localhost:8080/"
        },
        "id": "oZvfq2HbKFWu",
        "outputId": "a45888e2-049c-4882-fc5e-22551c057ce1"
      },
      "source": [
        "y=df['Survived']\n",
        "y.head()"
      ],
      "execution_count": 34,
      "outputs": [
        {
          "output_type": "execute_result",
          "data": {
            "text/plain": [
              "0    0\n",
              "1    1\n",
              "2    1\n",
              "3    1\n",
              "4    0\n",
              "Name: Survived, dtype: int64"
            ]
          },
          "metadata": {
            "tags": []
          },
          "execution_count": 34
        }
      ]
    },
    {
      "cell_type": "markdown",
      "metadata": {
        "id": "XIHT3qcWKFWu"
      },
      "source": [
        "**Storing price column for training and testing purpose**"
      ]
    },
    {
      "cell_type": "code",
      "metadata": {
        "id": "nQ-GHrgdKFWu"
      },
      "source": [
        "df.drop(['Sex','Ticket','Name','PassengerId','Pclass','Survived'],axis=1,inplace=True)"
      ],
      "execution_count": 35,
      "outputs": []
    },
    {
      "cell_type": "markdown",
      "metadata": {
        "id": "95bxUmQbKFWv"
      },
      "source": [
        "**Removing categorical columns as they have been replaced by respective numerical columns**"
      ]
    },
    {
      "cell_type": "code",
      "metadata": {
        "colab": {
          "base_uri": "https://localhost:8080/",
          "height": 363
        },
        "id": "1jUgk0U8KFWv",
        "outputId": "cd3f58c4-d752-4279-cdc3-2433fee17788"
      },
      "source": [
        "df.head(10)"
      ],
      "execution_count": 36,
      "outputs": [
        {
          "output_type": "execute_result",
          "data": {
            "text/html": [
              "<div>\n",
              "<style scoped>\n",
              "    .dataframe tbody tr th:only-of-type {\n",
              "        vertical-align: middle;\n",
              "    }\n",
              "\n",
              "    .dataframe tbody tr th {\n",
              "        vertical-align: top;\n",
              "    }\n",
              "\n",
              "    .dataframe thead th {\n",
              "        text-align: right;\n",
              "    }\n",
              "</style>\n",
              "<table border=\"1\" class=\"dataframe\">\n",
              "  <thead>\n",
              "    <tr style=\"text-align: right;\">\n",
              "      <th></th>\n",
              "      <th>Age</th>\n",
              "      <th>SibSp</th>\n",
              "      <th>Parch</th>\n",
              "      <th>Fare</th>\n",
              "      <th>Embarked</th>\n",
              "      <th>male</th>\n",
              "      <th>2</th>\n",
              "      <th>3</th>\n",
              "    </tr>\n",
              "  </thead>\n",
              "  <tbody>\n",
              "    <tr>\n",
              "      <th>0</th>\n",
              "      <td>22.0</td>\n",
              "      <td>1</td>\n",
              "      <td>0</td>\n",
              "      <td>7.2500</td>\n",
              "      <td>1</td>\n",
              "      <td>1</td>\n",
              "      <td>0</td>\n",
              "      <td>1</td>\n",
              "    </tr>\n",
              "    <tr>\n",
              "      <th>1</th>\n",
              "      <td>38.0</td>\n",
              "      <td>1</td>\n",
              "      <td>0</td>\n",
              "      <td>71.2833</td>\n",
              "      <td>2</td>\n",
              "      <td>0</td>\n",
              "      <td>0</td>\n",
              "      <td>0</td>\n",
              "    </tr>\n",
              "    <tr>\n",
              "      <th>2</th>\n",
              "      <td>26.0</td>\n",
              "      <td>0</td>\n",
              "      <td>0</td>\n",
              "      <td>7.9250</td>\n",
              "      <td>1</td>\n",
              "      <td>0</td>\n",
              "      <td>0</td>\n",
              "      <td>1</td>\n",
              "    </tr>\n",
              "    <tr>\n",
              "      <th>3</th>\n",
              "      <td>35.0</td>\n",
              "      <td>1</td>\n",
              "      <td>0</td>\n",
              "      <td>53.1000</td>\n",
              "      <td>1</td>\n",
              "      <td>0</td>\n",
              "      <td>0</td>\n",
              "      <td>0</td>\n",
              "    </tr>\n",
              "    <tr>\n",
              "      <th>4</th>\n",
              "      <td>35.0</td>\n",
              "      <td>0</td>\n",
              "      <td>0</td>\n",
              "      <td>8.0500</td>\n",
              "      <td>1</td>\n",
              "      <td>1</td>\n",
              "      <td>0</td>\n",
              "      <td>1</td>\n",
              "    </tr>\n",
              "    <tr>\n",
              "      <th>5</th>\n",
              "      <td>24.0</td>\n",
              "      <td>0</td>\n",
              "      <td>0</td>\n",
              "      <td>8.4583</td>\n",
              "      <td>3</td>\n",
              "      <td>1</td>\n",
              "      <td>0</td>\n",
              "      <td>1</td>\n",
              "    </tr>\n",
              "    <tr>\n",
              "      <th>6</th>\n",
              "      <td>54.0</td>\n",
              "      <td>0</td>\n",
              "      <td>0</td>\n",
              "      <td>51.8625</td>\n",
              "      <td>1</td>\n",
              "      <td>1</td>\n",
              "      <td>0</td>\n",
              "      <td>0</td>\n",
              "    </tr>\n",
              "    <tr>\n",
              "      <th>7</th>\n",
              "      <td>2.0</td>\n",
              "      <td>3</td>\n",
              "      <td>1</td>\n",
              "      <td>21.0750</td>\n",
              "      <td>1</td>\n",
              "      <td>1</td>\n",
              "      <td>0</td>\n",
              "      <td>1</td>\n",
              "    </tr>\n",
              "    <tr>\n",
              "      <th>8</th>\n",
              "      <td>27.0</td>\n",
              "      <td>0</td>\n",
              "      <td>1</td>\n",
              "      <td>11.1333</td>\n",
              "      <td>1</td>\n",
              "      <td>0</td>\n",
              "      <td>0</td>\n",
              "      <td>1</td>\n",
              "    </tr>\n",
              "    <tr>\n",
              "      <th>9</th>\n",
              "      <td>14.0</td>\n",
              "      <td>1</td>\n",
              "      <td>0</td>\n",
              "      <td>30.0708</td>\n",
              "      <td>2</td>\n",
              "      <td>0</td>\n",
              "      <td>1</td>\n",
              "      <td>0</td>\n",
              "    </tr>\n",
              "  </tbody>\n",
              "</table>\n",
              "</div>"
            ],
            "text/plain": [
              "    Age  SibSp  Parch     Fare  Embarked  male  2  3\n",
              "0  22.0      1      0   7.2500         1     1  0  1\n",
              "1  38.0      1      0  71.2833         2     0  0  0\n",
              "2  26.0      0      0   7.9250         1     0  0  1\n",
              "3  35.0      1      0  53.1000         1     0  0  0\n",
              "4  35.0      0      0   8.0500         1     1  0  1\n",
              "5  24.0      0      0   8.4583         3     1  0  1\n",
              "6  54.0      0      0  51.8625         1     1  0  0\n",
              "7   2.0      3      1  21.0750         1     1  0  1\n",
              "8  27.0      0      1  11.1333         1     0  0  1\n",
              "9  14.0      1      0  30.0708         2     0  1  0"
            ]
          },
          "metadata": {
            "tags": []
          },
          "execution_count": 36
        }
      ]
    },
    {
      "cell_type": "code",
      "metadata": {
        "trusted": true,
        "colab": {
          "base_uri": "https://localhost:8080/"
        },
        "id": "g2xNv1LcKFWv",
        "outputId": "4bc56e96-b3df-4198-b84d-c8259d2a22f1"
      },
      "source": [
        "df.columns"
      ],
      "execution_count": 37,
      "outputs": [
        {
          "output_type": "execute_result",
          "data": {
            "text/plain": [
              "Index(['Age', 'SibSp', 'Parch', 'Fare', 'Embarked', 'male', 2, 3], dtype='object')"
            ]
          },
          "metadata": {
            "tags": []
          },
          "execution_count": 37
        }
      ]
    },
    {
      "cell_type": "markdown",
      "metadata": {
        "id": "yn-Y6ItlKFWv"
      },
      "source": [
        "**Available columns for prediction model**"
      ]
    },
    {
      "cell_type": "markdown",
      "metadata": {
        "id": "XvoItXlrKFWv"
      },
      "source": [
        "> # Dataset splitting"
      ]
    },
    {
      "cell_type": "code",
      "metadata": {
        "id": "cYbSV_5gKFWw"
      },
      "source": [
        "from sklearn.model_selection import train_test_split\n"
      ],
      "execution_count": 38,
      "outputs": []
    },
    {
      "cell_type": "code",
      "metadata": {
        "id": "_2p6z6V_KFWw"
      },
      "source": [
        "X_train, X_test, Y_train, Y_test = train_test_split(df, y)"
      ],
      "execution_count": 39,
      "outputs": []
    },
    {
      "cell_type": "markdown",
      "metadata": {
        "id": "-kcaIIu_KFWw"
      },
      "source": [
        "# Building Neural Network Model"
      ]
    },
    {
      "cell_type": "code",
      "metadata": {
        "id": "Y_Lt--E6KFWw"
      },
      "source": [
        "from sklearn.neural_network import MLPClassifier"
      ],
      "execution_count": 40,
      "outputs": []
    },
    {
      "cell_type": "markdown",
      "metadata": {
        "id": "ykluzla_KFWw"
      },
      "source": [
        "> # Neural Network Model from sklearn"
      ]
    },
    {
      "cell_type": "code",
      "metadata": {
        "id": "OoYIS56vKFWx"
      },
      "source": [
        "mlp = MLPClassifier(hidden_layer_sizes=(512,), verbose = 1,activation='relu',solver='adam',warm_start=True)"
      ],
      "execution_count": 41,
      "outputs": []
    },
    {
      "cell_type": "markdown",
      "metadata": {
        "id": "6-kUEmS5KFWz"
      },
      "source": [
        "An MLP (or Artificial Neural Network - ANN) with a single hidden layer "
      ]
    },
    {
      "cell_type": "code",
      "metadata": {
        "colab": {
          "base_uri": "https://localhost:8080/"
        },
        "id": "VdSOIt9FKFWz",
        "outputId": "91571ab7-cee6-4aa2-bca6-5362ed46dc4e"
      },
      "source": [
        "mlp"
      ],
      "execution_count": 42,
      "outputs": [
        {
          "output_type": "execute_result",
          "data": {
            "text/plain": [
              "MLPClassifier(activation='relu', alpha=0.0001, batch_size='auto', beta_1=0.9,\n",
              "              beta_2=0.999, early_stopping=False, epsilon=1e-08,\n",
              "              hidden_layer_sizes=(512,), learning_rate='constant',\n",
              "              learning_rate_init=0.001, max_fun=15000, max_iter=200,\n",
              "              momentum=0.9, n_iter_no_change=10, nesterovs_momentum=True,\n",
              "              power_t=0.5, random_state=None, shuffle=True, solver='adam',\n",
              "              tol=0.0001, validation_fraction=0.1, verbose=1, warm_start=True)"
            ]
          },
          "metadata": {
            "tags": []
          },
          "execution_count": 42
        }
      ]
    },
    {
      "cell_type": "markdown",
      "metadata": {
        "id": "1VrcA9Q8KFWz"
      },
      "source": [
        "# Running/Fitting the Models"
      ]
    },
    {
      "cell_type": "code",
      "metadata": {
        "colab": {
          "base_uri": "https://localhost:8080/"
        },
        "id": "VdqjHdRZKFW0",
        "outputId": "6e903b13-8160-4351-c1c0-56f4076e2aea"
      },
      "source": [
        "mlp.fit(X_train, Y_train)"
      ],
      "execution_count": 43,
      "outputs": [
        {
          "output_type": "stream",
          "text": [
            "Iteration 1, loss = 1.31558790\n",
            "Iteration 2, loss = 1.00536166\n",
            "Iteration 3, loss = 0.71657338\n",
            "Iteration 4, loss = 0.74022020\n",
            "Iteration 5, loss = 0.70708161\n",
            "Iteration 6, loss = 0.62357024\n",
            "Iteration 7, loss = 0.58132809\n",
            "Iteration 8, loss = 0.56784538\n",
            "Iteration 9, loss = 0.57399956\n",
            "Iteration 10, loss = 0.55586171\n",
            "Iteration 11, loss = 0.54603432\n",
            "Iteration 12, loss = 0.54079634\n",
            "Iteration 13, loss = 0.53805359\n",
            "Iteration 14, loss = 0.52898701\n",
            "Iteration 15, loss = 0.52790933\n",
            "Iteration 16, loss = 0.51999832\n",
            "Iteration 17, loss = 0.52304105\n",
            "Iteration 18, loss = 0.51654128\n",
            "Iteration 19, loss = 0.51435806\n",
            "Iteration 20, loss = 0.50661493\n",
            "Iteration 21, loss = 0.50415142\n",
            "Iteration 22, loss = 0.49818920\n",
            "Iteration 23, loss = 0.49678384\n",
            "Iteration 24, loss = 0.49294481\n",
            "Iteration 25, loss = 0.49162367\n",
            "Iteration 26, loss = 0.48752156\n",
            "Iteration 27, loss = 0.48831886\n",
            "Iteration 28, loss = 0.48213237\n",
            "Iteration 29, loss = 0.47920566\n",
            "Iteration 30, loss = 0.47717149\n",
            "Iteration 31, loss = 0.47475622\n",
            "Iteration 32, loss = 0.47052304\n",
            "Iteration 33, loss = 0.47372757\n",
            "Iteration 34, loss = 0.48182922\n",
            "Iteration 35, loss = 0.46922169\n",
            "Iteration 36, loss = 0.46248913\n",
            "Iteration 37, loss = 0.47779202\n",
            "Iteration 38, loss = 0.46420807\n",
            "Iteration 39, loss = 0.46106793\n",
            "Iteration 40, loss = 0.45346528\n",
            "Iteration 41, loss = 0.46179773\n",
            "Iteration 42, loss = 0.45427726\n",
            "Iteration 43, loss = 0.45223396\n",
            "Iteration 44, loss = 0.44892550\n",
            "Iteration 45, loss = 0.44728503\n",
            "Iteration 46, loss = 0.44694011\n",
            "Iteration 47, loss = 0.44555437\n",
            "Iteration 48, loss = 0.44732049\n",
            "Iteration 49, loss = 0.44241016\n",
            "Iteration 50, loss = 0.44665116\n",
            "Iteration 51, loss = 0.44673791\n",
            "Iteration 52, loss = 0.44392206\n",
            "Iteration 53, loss = 0.43896436\n",
            "Iteration 54, loss = 0.43642189\n",
            "Iteration 55, loss = 0.43675235\n",
            "Iteration 56, loss = 0.43768936\n",
            "Iteration 57, loss = 0.43762963\n",
            "Iteration 58, loss = 0.43947110\n",
            "Iteration 59, loss = 0.44454801\n",
            "Iteration 60, loss = 0.43799705\n",
            "Iteration 61, loss = 0.43600794\n",
            "Iteration 62, loss = 0.43039979\n",
            "Iteration 63, loss = 0.43048083\n",
            "Iteration 64, loss = 0.43767831\n",
            "Iteration 65, loss = 0.43293193\n",
            "Iteration 66, loss = 0.42829103\n",
            "Iteration 67, loss = 0.43181584\n",
            "Iteration 68, loss = 0.42873561\n",
            "Iteration 69, loss = 0.42720242\n",
            "Iteration 70, loss = 0.42767955\n",
            "Iteration 71, loss = 0.43221286\n",
            "Iteration 72, loss = 0.42801577\n",
            "Iteration 73, loss = 0.42380292\n",
            "Iteration 74, loss = 0.42224420\n",
            "Iteration 75, loss = 0.42412629\n",
            "Iteration 76, loss = 0.42051595\n",
            "Iteration 77, loss = 0.42482344\n",
            "Iteration 78, loss = 0.42926652\n",
            "Iteration 79, loss = 0.42890174\n",
            "Iteration 80, loss = 0.42273734\n",
            "Iteration 81, loss = 0.41794088\n",
            "Iteration 82, loss = 0.42411098\n",
            "Iteration 83, loss = 0.42019491\n",
            "Iteration 84, loss = 0.41710536\n",
            "Iteration 85, loss = 0.41739832\n",
            "Iteration 86, loss = 0.41795959\n",
            "Iteration 87, loss = 0.41736851\n",
            "Iteration 88, loss = 0.41510902\n",
            "Iteration 89, loss = 0.42150041\n",
            "Iteration 90, loss = 0.41970352\n",
            "Iteration 91, loss = 0.42376606\n",
            "Iteration 92, loss = 0.42438761\n",
            "Iteration 93, loss = 0.41397170\n",
            "Iteration 94, loss = 0.41959030\n",
            "Iteration 95, loss = 0.41493289\n",
            "Iteration 96, loss = 0.41684233\n",
            "Iteration 97, loss = 0.41162642\n",
            "Iteration 98, loss = 0.41325092\n",
            "Iteration 99, loss = 0.41268769\n",
            "Iteration 100, loss = 0.41259622\n",
            "Iteration 101, loss = 0.41290694\n",
            "Iteration 102, loss = 0.41664085\n",
            "Iteration 103, loss = 0.41176360\n",
            "Iteration 104, loss = 0.41200960\n",
            "Iteration 105, loss = 0.41719484\n",
            "Iteration 106, loss = 0.41246858\n",
            "Iteration 107, loss = 0.41371125\n",
            "Iteration 108, loss = 0.41526753\n",
            "Training loss did not improve more than tol=0.000100 for 10 consecutive epochs. Stopping.\n"
          ],
          "name": "stdout"
        },
        {
          "output_type": "execute_result",
          "data": {
            "text/plain": [
              "MLPClassifier(activation='relu', alpha=0.0001, batch_size='auto', beta_1=0.9,\n",
              "              beta_2=0.999, early_stopping=False, epsilon=1e-08,\n",
              "              hidden_layer_sizes=(512,), learning_rate='constant',\n",
              "              learning_rate_init=0.001, max_fun=15000, max_iter=200,\n",
              "              momentum=0.9, n_iter_no_change=10, nesterovs_momentum=True,\n",
              "              power_t=0.5, random_state=None, shuffle=True, solver='adam',\n",
              "              tol=0.0001, validation_fraction=0.1, verbose=1, warm_start=True)"
            ]
          },
          "metadata": {
            "tags": []
          },
          "execution_count": 43
        }
      ]
    },
    {
      "cell_type": "markdown",
      "metadata": {
        "id": "RMLzgXjNKFW0"
      },
      "source": [
        "# Gathering Predictions from the model"
      ]
    },
    {
      "cell_type": "code",
      "metadata": {
        "colab": {
          "base_uri": "https://localhost:8080/"
        },
        "id": "1Yi3xpvXKFW0",
        "outputId": "3a4cdf13-5244-485c-e5d2-ce3faad67809"
      },
      "source": [
        "\n",
        "pred=mlp.predict(X_test)\n",
        "print(pred)\n"
      ],
      "execution_count": 44,
      "outputs": [
        {
          "output_type": "stream",
          "text": [
            "[1 1 0 0 0 0 0 1 0 1 1 1 1 0 1 0 1 0 0 0 0 0 0 1 0 0 1 0 0 1 0 1 0 1 0 0 0\n",
            " 0 1 1 0 0 0 1 0 0 0 0 0 0 0 0 0 1 0 1 1 0 0 1 0 0 0 0 1 0 1 0 0 0 0 0 0 1\n",
            " 0 1 1 0 0 1 1 0 1 0 0 0 0 0 0 1 1 1 1 0 0 1 0 0 0 1 0 0 0 0 0 0 0 0 0 0 0\n",
            " 1 0 1 0 0 0 0 0 0 0 1 0 0 0 0 0 0 0 1 0 1 0 1 1 0 1 0 1 1 1 0 0 0 0 1 0 1\n",
            " 0 1 0 0 0 0 0 0 0 0 1 1 1 1 1 0 0 0 0 0 1 0 0 0 0 0 0 1 0 0 1 0 0 0 1 0 0\n",
            " 0 0 0 0 0 0 1 1 0 0 0 0 1 0 1 0 0 0 1 0 1 1 1 0 1 0 0 0 0 0 0 0 0 0 0 0 0\n",
            " 1]\n"
          ],
          "name": "stdout"
        }
      ]
    },
    {
      "cell_type": "markdown",
      "metadata": {
        "id": "He3JqT4EKFW0"
      },
      "source": [
        "# Accuracy and Classification report"
      ]
    },
    {
      "cell_type": "code",
      "metadata": {
        "colab": {
          "base_uri": "https://localhost:8080/"
        },
        "id": "ISvCM0HYKFW1",
        "outputId": "688b1263-2a21-49d5-917c-a2c00f0ffa00"
      },
      "source": [
        "from sklearn.metrics import classification_report\n",
        "from sklearn.metrics import accuracy_score\n",
        "print(\"accuracy=\",accuracy_score(Y_test, pred))\n",
        "print(classification_report(pred,Y_test))"
      ],
      "execution_count": 45,
      "outputs": [
        {
          "output_type": "stream",
          "text": [
            "accuracy= 0.8385650224215246\n",
            "              precision    recall  f1-score   support\n",
            "\n",
            "           0       0.90      0.86      0.88       155\n",
            "           1       0.71      0.79      0.75        68\n",
            "\n",
            "    accuracy                           0.84       223\n",
            "   macro avg       0.81      0.83      0.82       223\n",
            "weighted avg       0.85      0.84      0.84       223\n",
            "\n"
          ],
          "name": "stdout"
        }
      ]
    },
    {
      "cell_type": "code",
      "metadata": {
        "id": "T3rPO0KrY-uJ"
      },
      "source": [
        "import pandas as pd\n",
        "import numpy as np\n",
        "import tensorflow as tf\n",
        "from tensorflow import keras\n",
        "import os"
      ],
      "execution_count": 46,
      "outputs": []
    },
    {
      "cell_type": "code",
      "metadata": {
        "colab": {
          "base_uri": "https://localhost:8080/"
        },
        "id": "QjqPKhM3ZWsj",
        "outputId": "d7baf56a-ac67-4e4d-de13-6556823838f1"
      },
      "source": [
        "import math\n",
        "numFeatures = len(X_train.columns)\n",
        "inputNeurons = math.ceil(2*(numFeatures)/3)\n",
        "print(inputNeurons)"
      ],
      "execution_count": 48,
      "outputs": [
        {
          "output_type": "stream",
          "text": [
            "6\n"
          ],
          "name": "stdout"
        }
      ]
    },
    {
      "cell_type": "code",
      "metadata": {
        "id": "oEWIotISY-8K"
      },
      "source": [
        "model1 = tf.keras.Sequential([\n",
        "                             tf.keras.layers.Dense(units = inputNeurons, activation = 'relu'),#input layer\n",
        "                             tf.keras.layers.Dense(units = 2*inputNeurons, activation='relu'), #only hidden layer should be more than 1 \n",
        "                             tf.keras.layers.Dense(1, activation='sigmoid') #output layer\n",
        "])"
      ],
      "execution_count": 63,
      "outputs": []
    },
    {
      "cell_type": "code",
      "metadata": {
        "id": "-QPkp6cpY_Yb"
      },
      "source": [
        "model1.compile(optimizer=tf.keras.optimizers.RMSprop(learning_rate=0.001), loss='binary_crossentropy', metrics=['accuracy'])"
      ],
      "execution_count": 64,
      "outputs": []
    },
    {
      "cell_type": "code",
      "metadata": {
        "id": "8wFXnqJsY_bH"
      },
      "source": [
        "early_stopping = tf.keras.callbacks.EarlyStopping(monitor='val_accuracy', patience=100)"
      ],
      "execution_count": 65,
      "outputs": []
    },
    {
      "cell_type": "code",
      "metadata": {
        "colab": {
          "base_uri": "https://localhost:8080/"
        },
        "id": "c4SF8OWJY_d-",
        "outputId": "74179545-9663-407d-eb24-f51a32131d74"
      },
      "source": [
        "numEpochs = 500\n",
        "history = model1.fit(X_train, Y_train, epochs=numEpochs,validation_data=(X_test,Y_test),callbacks=[early_stopping])"
      ],
      "execution_count": 66,
      "outputs": [
        {
          "output_type": "stream",
          "text": [
            "Epoch 1/500\n",
            "21/21 [==============================] - 1s 11ms/step - loss: 2.2324 - accuracy: 0.3713 - val_loss: 1.9895 - val_accuracy: 0.3004\n",
            "Epoch 2/500\n",
            "21/21 [==============================] - 0s 3ms/step - loss: 1.6000 - accuracy: 0.3728 - val_loss: 1.4477 - val_accuracy: 0.3229\n",
            "Epoch 3/500\n",
            "21/21 [==============================] - 0s 3ms/step - loss: 1.2021 - accuracy: 0.3817 - val_loss: 1.0943 - val_accuracy: 0.3274\n",
            "Epoch 4/500\n",
            "21/21 [==============================] - 0s 3ms/step - loss: 0.9418 - accuracy: 0.3757 - val_loss: 0.8773 - val_accuracy: 0.3274\n",
            "Epoch 5/500\n",
            "21/21 [==============================] - 0s 4ms/step - loss: 0.7853 - accuracy: 0.3832 - val_loss: 0.7367 - val_accuracy: 0.3049\n",
            "Epoch 6/500\n",
            "21/21 [==============================] - 0s 3ms/step - loss: 0.6923 - accuracy: 0.5015 - val_loss: 0.6727 - val_accuracy: 0.6771\n",
            "Epoch 7/500\n",
            "21/21 [==============================] - 0s 4ms/step - loss: 0.6499 - accuracy: 0.6482 - val_loss: 0.6299 - val_accuracy: 0.6906\n",
            "Epoch 8/500\n",
            "21/21 [==============================] - 0s 3ms/step - loss: 0.6298 - accuracy: 0.6542 - val_loss: 0.6168 - val_accuracy: 0.6906\n",
            "Epoch 9/500\n",
            "21/21 [==============================] - 0s 3ms/step - loss: 0.6229 - accuracy: 0.6452 - val_loss: 0.6127 - val_accuracy: 0.6906\n",
            "Epoch 10/500\n",
            "21/21 [==============================] - 0s 3ms/step - loss: 0.6141 - accuracy: 0.6527 - val_loss: 0.6088 - val_accuracy: 0.6861\n",
            "Epoch 11/500\n",
            "21/21 [==============================] - 0s 3ms/step - loss: 0.6108 - accuracy: 0.6467 - val_loss: 0.6045 - val_accuracy: 0.6726\n",
            "Epoch 12/500\n",
            "21/21 [==============================] - 0s 3ms/step - loss: 0.6079 - accuracy: 0.6542 - val_loss: 0.6091 - val_accuracy: 0.6906\n",
            "Epoch 13/500\n",
            "21/21 [==============================] - 0s 3ms/step - loss: 0.6051 - accuracy: 0.6542 - val_loss: 0.6059 - val_accuracy: 0.6771\n",
            "Epoch 14/500\n",
            "21/21 [==============================] - 0s 3ms/step - loss: 0.6020 - accuracy: 0.6632 - val_loss: 0.6034 - val_accuracy: 0.6682\n",
            "Epoch 15/500\n",
            "21/21 [==============================] - 0s 4ms/step - loss: 0.6003 - accuracy: 0.6722 - val_loss: 0.6009 - val_accuracy: 0.6726\n",
            "Epoch 16/500\n",
            "21/21 [==============================] - 0s 4ms/step - loss: 0.5990 - accuracy: 0.6662 - val_loss: 0.6016 - val_accuracy: 0.6861\n",
            "Epoch 17/500\n",
            "21/21 [==============================] - 0s 4ms/step - loss: 0.5954 - accuracy: 0.6722 - val_loss: 0.6089 - val_accuracy: 0.6816\n",
            "Epoch 18/500\n",
            "21/21 [==============================] - 0s 3ms/step - loss: 0.5936 - accuracy: 0.6886 - val_loss: 0.6037 - val_accuracy: 0.6816\n",
            "Epoch 19/500\n",
            "21/21 [==============================] - 0s 3ms/step - loss: 0.5927 - accuracy: 0.6916 - val_loss: 0.5986 - val_accuracy: 0.6861\n",
            "Epoch 20/500\n",
            "21/21 [==============================] - 0s 3ms/step - loss: 0.5889 - accuracy: 0.6871 - val_loss: 0.6094 - val_accuracy: 0.6726\n",
            "Epoch 21/500\n",
            "21/21 [==============================] - 0s 3ms/step - loss: 0.5923 - accuracy: 0.6856 - val_loss: 0.6056 - val_accuracy: 0.6771\n",
            "Epoch 22/500\n",
            "21/21 [==============================] - 0s 2ms/step - loss: 0.5911 - accuracy: 0.6901 - val_loss: 0.6005 - val_accuracy: 0.6726\n",
            "Epoch 23/500\n",
            "21/21 [==============================] - 0s 3ms/step - loss: 0.5880 - accuracy: 0.6916 - val_loss: 0.6040 - val_accuracy: 0.6726\n",
            "Epoch 24/500\n",
            "21/21 [==============================] - 0s 3ms/step - loss: 0.5857 - accuracy: 0.6901 - val_loss: 0.5965 - val_accuracy: 0.6682\n",
            "Epoch 25/500\n",
            "21/21 [==============================] - 0s 3ms/step - loss: 0.5853 - accuracy: 0.7036 - val_loss: 0.6040 - val_accuracy: 0.6726\n",
            "Epoch 26/500\n",
            "21/21 [==============================] - 0s 3ms/step - loss: 0.5825 - accuracy: 0.6931 - val_loss: 0.5990 - val_accuracy: 0.6816\n",
            "Epoch 27/500\n",
            "21/21 [==============================] - 0s 4ms/step - loss: 0.5850 - accuracy: 0.7021 - val_loss: 0.5941 - val_accuracy: 0.6682\n",
            "Epoch 28/500\n",
            "21/21 [==============================] - 0s 3ms/step - loss: 0.5811 - accuracy: 0.6946 - val_loss: 0.5924 - val_accuracy: 0.6771\n",
            "Epoch 29/500\n",
            "21/21 [==============================] - 0s 3ms/step - loss: 0.5792 - accuracy: 0.6916 - val_loss: 0.5991 - val_accuracy: 0.6682\n",
            "Epoch 30/500\n",
            "21/21 [==============================] - 0s 3ms/step - loss: 0.5799 - accuracy: 0.7036 - val_loss: 0.5905 - val_accuracy: 0.6816\n",
            "Epoch 31/500\n",
            "21/21 [==============================] - 0s 3ms/step - loss: 0.5775 - accuracy: 0.6961 - val_loss: 0.5895 - val_accuracy: 0.6861\n",
            "Epoch 32/500\n",
            "21/21 [==============================] - 0s 3ms/step - loss: 0.5771 - accuracy: 0.7006 - val_loss: 0.5911 - val_accuracy: 0.6951\n",
            "Epoch 33/500\n",
            "21/21 [==============================] - 0s 3ms/step - loss: 0.5746 - accuracy: 0.6976 - val_loss: 0.5908 - val_accuracy: 0.6682\n",
            "Epoch 34/500\n",
            "21/21 [==============================] - 0s 3ms/step - loss: 0.5761 - accuracy: 0.6991 - val_loss: 0.5925 - val_accuracy: 0.6861\n",
            "Epoch 35/500\n",
            "21/21 [==============================] - 0s 3ms/step - loss: 0.5703 - accuracy: 0.7006 - val_loss: 0.5904 - val_accuracy: 0.6816\n",
            "Epoch 36/500\n",
            "21/21 [==============================] - 0s 3ms/step - loss: 0.5735 - accuracy: 0.7081 - val_loss: 0.5872 - val_accuracy: 0.6816\n",
            "Epoch 37/500\n",
            "21/21 [==============================] - 0s 3ms/step - loss: 0.5692 - accuracy: 0.7111 - val_loss: 0.5877 - val_accuracy: 0.6816\n",
            "Epoch 38/500\n",
            "21/21 [==============================] - 0s 3ms/step - loss: 0.5719 - accuracy: 0.7141 - val_loss: 0.5858 - val_accuracy: 0.6861\n",
            "Epoch 39/500\n",
            "21/21 [==============================] - 0s 3ms/step - loss: 0.5634 - accuracy: 0.7111 - val_loss: 0.6008 - val_accuracy: 0.6682\n",
            "Epoch 40/500\n",
            "21/21 [==============================] - 0s 3ms/step - loss: 0.5685 - accuracy: 0.7126 - val_loss: 0.5799 - val_accuracy: 0.6726\n",
            "Epoch 41/500\n",
            "21/21 [==============================] - 0s 3ms/step - loss: 0.5618 - accuracy: 0.7141 - val_loss: 0.5874 - val_accuracy: 0.6861\n",
            "Epoch 42/500\n",
            "21/21 [==============================] - 0s 3ms/step - loss: 0.5615 - accuracy: 0.7021 - val_loss: 0.5770 - val_accuracy: 0.6726\n",
            "Epoch 43/500\n",
            "21/21 [==============================] - 0s 3ms/step - loss: 0.5614 - accuracy: 0.7186 - val_loss: 0.5785 - val_accuracy: 0.6726\n",
            "Epoch 44/500\n",
            "21/21 [==============================] - 0s 4ms/step - loss: 0.5561 - accuracy: 0.7141 - val_loss: 0.5820 - val_accuracy: 0.6816\n",
            "Epoch 45/500\n",
            "21/21 [==============================] - 0s 3ms/step - loss: 0.5562 - accuracy: 0.7186 - val_loss: 0.5773 - val_accuracy: 0.6816\n",
            "Epoch 46/500\n",
            "21/21 [==============================] - 0s 4ms/step - loss: 0.5538 - accuracy: 0.7201 - val_loss: 0.5869 - val_accuracy: 0.6816\n",
            "Epoch 47/500\n",
            "21/21 [==============================] - 0s 4ms/step - loss: 0.5492 - accuracy: 0.7186 - val_loss: 0.5746 - val_accuracy: 0.6861\n",
            "Epoch 48/500\n",
            "21/21 [==============================] - 0s 4ms/step - loss: 0.5524 - accuracy: 0.7141 - val_loss: 0.5715 - val_accuracy: 0.6771\n",
            "Epoch 49/500\n",
            "21/21 [==============================] - 0s 3ms/step - loss: 0.5475 - accuracy: 0.7171 - val_loss: 0.5767 - val_accuracy: 0.6592\n",
            "Epoch 50/500\n",
            "21/21 [==============================] - 0s 4ms/step - loss: 0.5477 - accuracy: 0.7246 - val_loss: 0.5707 - val_accuracy: 0.6771\n",
            "Epoch 51/500\n",
            "21/21 [==============================] - 0s 3ms/step - loss: 0.5454 - accuracy: 0.7201 - val_loss: 0.5664 - val_accuracy: 0.6726\n",
            "Epoch 52/500\n",
            "21/21 [==============================] - 0s 3ms/step - loss: 0.5434 - accuracy: 0.7201 - val_loss: 0.5651 - val_accuracy: 0.6771\n",
            "Epoch 53/500\n",
            "21/21 [==============================] - 0s 3ms/step - loss: 0.5419 - accuracy: 0.7231 - val_loss: 0.5615 - val_accuracy: 0.6816\n",
            "Epoch 54/500\n",
            "21/21 [==============================] - 0s 3ms/step - loss: 0.5408 - accuracy: 0.7260 - val_loss: 0.5710 - val_accuracy: 0.7085\n",
            "Epoch 55/500\n",
            "21/21 [==============================] - 0s 4ms/step - loss: 0.5401 - accuracy: 0.7320 - val_loss: 0.5593 - val_accuracy: 0.6951\n",
            "Epoch 56/500\n",
            "21/21 [==============================] - 0s 4ms/step - loss: 0.5366 - accuracy: 0.7335 - val_loss: 0.5636 - val_accuracy: 0.7085\n",
            "Epoch 57/500\n",
            "21/21 [==============================] - 0s 3ms/step - loss: 0.5361 - accuracy: 0.7275 - val_loss: 0.5603 - val_accuracy: 0.7085\n",
            "Epoch 58/500\n",
            "21/21 [==============================] - 0s 3ms/step - loss: 0.5306 - accuracy: 0.7350 - val_loss: 0.5569 - val_accuracy: 0.7040\n",
            "Epoch 59/500\n",
            "21/21 [==============================] - 0s 3ms/step - loss: 0.5279 - accuracy: 0.7290 - val_loss: 0.5599 - val_accuracy: 0.7085\n",
            "Epoch 60/500\n",
            "21/21 [==============================] - 0s 3ms/step - loss: 0.5247 - accuracy: 0.7305 - val_loss: 0.5522 - val_accuracy: 0.7130\n",
            "Epoch 61/500\n",
            "21/21 [==============================] - 0s 3ms/step - loss: 0.5238 - accuracy: 0.7335 - val_loss: 0.5518 - val_accuracy: 0.7085\n",
            "Epoch 62/500\n",
            "21/21 [==============================] - 0s 4ms/step - loss: 0.5214 - accuracy: 0.7365 - val_loss: 0.5475 - val_accuracy: 0.7175\n",
            "Epoch 63/500\n",
            "21/21 [==============================] - 0s 3ms/step - loss: 0.5209 - accuracy: 0.7470 - val_loss: 0.5474 - val_accuracy: 0.7220\n",
            "Epoch 64/500\n",
            "21/21 [==============================] - 0s 3ms/step - loss: 0.5180 - accuracy: 0.7470 - val_loss: 0.5429 - val_accuracy: 0.7220\n",
            "Epoch 65/500\n",
            "21/21 [==============================] - 0s 3ms/step - loss: 0.5147 - accuracy: 0.7425 - val_loss: 0.5421 - val_accuracy: 0.7220\n",
            "Epoch 66/500\n",
            "21/21 [==============================] - 0s 3ms/step - loss: 0.5151 - accuracy: 0.7500 - val_loss: 0.5417 - val_accuracy: 0.7175\n",
            "Epoch 67/500\n",
            "21/21 [==============================] - 0s 3ms/step - loss: 0.5130 - accuracy: 0.7485 - val_loss: 0.5369 - val_accuracy: 0.7354\n",
            "Epoch 68/500\n",
            "21/21 [==============================] - 0s 3ms/step - loss: 0.5110 - accuracy: 0.7515 - val_loss: 0.5350 - val_accuracy: 0.7309\n",
            "Epoch 69/500\n",
            "21/21 [==============================] - 0s 3ms/step - loss: 0.5097 - accuracy: 0.7455 - val_loss: 0.5375 - val_accuracy: 0.7309\n",
            "Epoch 70/500\n",
            "21/21 [==============================] - 0s 3ms/step - loss: 0.5081 - accuracy: 0.7485 - val_loss: 0.5343 - val_accuracy: 0.7354\n",
            "Epoch 71/500\n",
            "21/21 [==============================] - 0s 4ms/step - loss: 0.5076 - accuracy: 0.7530 - val_loss: 0.5401 - val_accuracy: 0.7265\n",
            "Epoch 72/500\n",
            "21/21 [==============================] - 0s 3ms/step - loss: 0.5041 - accuracy: 0.7575 - val_loss: 0.5303 - val_accuracy: 0.7444\n",
            "Epoch 73/500\n",
            "21/21 [==============================] - 0s 3ms/step - loss: 0.5056 - accuracy: 0.7590 - val_loss: 0.5351 - val_accuracy: 0.7489\n",
            "Epoch 74/500\n",
            "21/21 [==============================] - 0s 3ms/step - loss: 0.5051 - accuracy: 0.7545 - val_loss: 0.5350 - val_accuracy: 0.7534\n",
            "Epoch 75/500\n",
            "21/21 [==============================] - 0s 3ms/step - loss: 0.5009 - accuracy: 0.7635 - val_loss: 0.5287 - val_accuracy: 0.7578\n",
            "Epoch 76/500\n",
            "21/21 [==============================] - 0s 3ms/step - loss: 0.5006 - accuracy: 0.7620 - val_loss: 0.5243 - val_accuracy: 0.7444\n",
            "Epoch 77/500\n",
            "21/21 [==============================] - 0s 4ms/step - loss: 0.4985 - accuracy: 0.7635 - val_loss: 0.5218 - val_accuracy: 0.7444\n",
            "Epoch 78/500\n",
            "21/21 [==============================] - 0s 2ms/step - loss: 0.4977 - accuracy: 0.7605 - val_loss: 0.5267 - val_accuracy: 0.7578\n",
            "Epoch 79/500\n",
            "21/21 [==============================] - 0s 3ms/step - loss: 0.4951 - accuracy: 0.7650 - val_loss: 0.5286 - val_accuracy: 0.7668\n",
            "Epoch 80/500\n",
            "21/21 [==============================] - 0s 3ms/step - loss: 0.4948 - accuracy: 0.7635 - val_loss: 0.5189 - val_accuracy: 0.7623\n",
            "Epoch 81/500\n",
            "21/21 [==============================] - 0s 3ms/step - loss: 0.4921 - accuracy: 0.7590 - val_loss: 0.5122 - val_accuracy: 0.7713\n",
            "Epoch 82/500\n",
            "21/21 [==============================] - 0s 3ms/step - loss: 0.4884 - accuracy: 0.7695 - val_loss: 0.5090 - val_accuracy: 0.7668\n",
            "Epoch 83/500\n",
            "21/21 [==============================] - 0s 3ms/step - loss: 0.4842 - accuracy: 0.7695 - val_loss: 0.5252 - val_accuracy: 0.7578\n",
            "Epoch 84/500\n",
            "21/21 [==============================] - 0s 4ms/step - loss: 0.4891 - accuracy: 0.7740 - val_loss: 0.5076 - val_accuracy: 0.7668\n",
            "Epoch 85/500\n",
            "21/21 [==============================] - 0s 2ms/step - loss: 0.4848 - accuracy: 0.7754 - val_loss: 0.5012 - val_accuracy: 0.7668\n",
            "Epoch 86/500\n",
            "21/21 [==============================] - 0s 3ms/step - loss: 0.4821 - accuracy: 0.7784 - val_loss: 0.5026 - val_accuracy: 0.7578\n",
            "Epoch 87/500\n",
            "21/21 [==============================] - 0s 3ms/step - loss: 0.4846 - accuracy: 0.7784 - val_loss: 0.5011 - val_accuracy: 0.7758\n",
            "Epoch 88/500\n",
            "21/21 [==============================] - 0s 3ms/step - loss: 0.4815 - accuracy: 0.7769 - val_loss: 0.5009 - val_accuracy: 0.7758\n",
            "Epoch 89/500\n",
            "21/21 [==============================] - 0s 2ms/step - loss: 0.4772 - accuracy: 0.7695 - val_loss: 0.4986 - val_accuracy: 0.7713\n",
            "Epoch 90/500\n",
            "21/21 [==============================] - 0s 3ms/step - loss: 0.4766 - accuracy: 0.7829 - val_loss: 0.4989 - val_accuracy: 0.7713\n",
            "Epoch 91/500\n",
            "21/21 [==============================] - 0s 3ms/step - loss: 0.4763 - accuracy: 0.7829 - val_loss: 0.4968 - val_accuracy: 0.7623\n",
            "Epoch 92/500\n",
            "21/21 [==============================] - 0s 3ms/step - loss: 0.4700 - accuracy: 0.7859 - val_loss: 0.5117 - val_accuracy: 0.7623\n",
            "Epoch 93/500\n",
            "21/21 [==============================] - 0s 3ms/step - loss: 0.4713 - accuracy: 0.7889 - val_loss: 0.4881 - val_accuracy: 0.7713\n",
            "Epoch 94/500\n",
            "21/21 [==============================] - 0s 4ms/step - loss: 0.4669 - accuracy: 0.7949 - val_loss: 0.5065 - val_accuracy: 0.7623\n",
            "Epoch 95/500\n",
            "21/21 [==============================] - 0s 4ms/step - loss: 0.4703 - accuracy: 0.7844 - val_loss: 0.4878 - val_accuracy: 0.7848\n",
            "Epoch 96/500\n",
            "21/21 [==============================] - 0s 3ms/step - loss: 0.4682 - accuracy: 0.7829 - val_loss: 0.4909 - val_accuracy: 0.7848\n",
            "Epoch 97/500\n",
            "21/21 [==============================] - 0s 3ms/step - loss: 0.4662 - accuracy: 0.7919 - val_loss: 0.4877 - val_accuracy: 0.7758\n",
            "Epoch 98/500\n",
            "21/21 [==============================] - 0s 3ms/step - loss: 0.4677 - accuracy: 0.7979 - val_loss: 0.4893 - val_accuracy: 0.7803\n",
            "Epoch 99/500\n",
            "21/21 [==============================] - 0s 3ms/step - loss: 0.4646 - accuracy: 0.7919 - val_loss: 0.4899 - val_accuracy: 0.7803\n",
            "Epoch 100/500\n",
            "21/21 [==============================] - 0s 4ms/step - loss: 0.4635 - accuracy: 0.7844 - val_loss: 0.4798 - val_accuracy: 0.7848\n",
            "Epoch 101/500\n",
            "21/21 [==============================] - 0s 4ms/step - loss: 0.4597 - accuracy: 0.7994 - val_loss: 0.4878 - val_accuracy: 0.7848\n",
            "Epoch 102/500\n",
            "21/21 [==============================] - 0s 3ms/step - loss: 0.4608 - accuracy: 0.8009 - val_loss: 0.4899 - val_accuracy: 0.7892\n",
            "Epoch 103/500\n",
            "21/21 [==============================] - 0s 3ms/step - loss: 0.4625 - accuracy: 0.7934 - val_loss: 0.4911 - val_accuracy: 0.7668\n",
            "Epoch 104/500\n",
            "21/21 [==============================] - 0s 3ms/step - loss: 0.4581 - accuracy: 0.7934 - val_loss: 0.4854 - val_accuracy: 0.7803\n",
            "Epoch 105/500\n",
            "21/21 [==============================] - 0s 3ms/step - loss: 0.4592 - accuracy: 0.7904 - val_loss: 0.4856 - val_accuracy: 0.7758\n",
            "Epoch 106/500\n",
            "21/21 [==============================] - 0s 4ms/step - loss: 0.4582 - accuracy: 0.7934 - val_loss: 0.4824 - val_accuracy: 0.7803\n",
            "Epoch 107/500\n",
            "21/21 [==============================] - 0s 3ms/step - loss: 0.4533 - accuracy: 0.8009 - val_loss: 0.4778 - val_accuracy: 0.7892\n",
            "Epoch 108/500\n",
            "21/21 [==============================] - 0s 3ms/step - loss: 0.4587 - accuracy: 0.7979 - val_loss: 0.4753 - val_accuracy: 0.7803\n",
            "Epoch 109/500\n",
            "21/21 [==============================] - 0s 3ms/step - loss: 0.4538 - accuracy: 0.7949 - val_loss: 0.4727 - val_accuracy: 0.7937\n",
            "Epoch 110/500\n",
            "21/21 [==============================] - 0s 3ms/step - loss: 0.4542 - accuracy: 0.7934 - val_loss: 0.4705 - val_accuracy: 0.7982\n",
            "Epoch 111/500\n",
            "21/21 [==============================] - 0s 3ms/step - loss: 0.4547 - accuracy: 0.7994 - val_loss: 0.4705 - val_accuracy: 0.7848\n",
            "Epoch 112/500\n",
            "21/21 [==============================] - 0s 3ms/step - loss: 0.4522 - accuracy: 0.7979 - val_loss: 0.4726 - val_accuracy: 0.7803\n",
            "Epoch 113/500\n",
            "21/21 [==============================] - 0s 2ms/step - loss: 0.4523 - accuracy: 0.8054 - val_loss: 0.4677 - val_accuracy: 0.7937\n",
            "Epoch 114/500\n",
            "21/21 [==============================] - 0s 3ms/step - loss: 0.4499 - accuracy: 0.7919 - val_loss: 0.4728 - val_accuracy: 0.7937\n",
            "Epoch 115/500\n",
            "21/21 [==============================] - 0s 3ms/step - loss: 0.4500 - accuracy: 0.8024 - val_loss: 0.4660 - val_accuracy: 0.8027\n",
            "Epoch 116/500\n",
            "21/21 [==============================] - 0s 3ms/step - loss: 0.4504 - accuracy: 0.7994 - val_loss: 0.4714 - val_accuracy: 0.7848\n",
            "Epoch 117/500\n",
            "21/21 [==============================] - 0s 4ms/step - loss: 0.4511 - accuracy: 0.7949 - val_loss: 0.4637 - val_accuracy: 0.8072\n",
            "Epoch 118/500\n",
            "21/21 [==============================] - 0s 3ms/step - loss: 0.4457 - accuracy: 0.7874 - val_loss: 0.4664 - val_accuracy: 0.7848\n",
            "Epoch 119/500\n",
            "21/21 [==============================] - 0s 3ms/step - loss: 0.4445 - accuracy: 0.8039 - val_loss: 0.4792 - val_accuracy: 0.7892\n",
            "Epoch 120/500\n",
            "21/21 [==============================] - 0s 3ms/step - loss: 0.4510 - accuracy: 0.7964 - val_loss: 0.4688 - val_accuracy: 0.7803\n",
            "Epoch 121/500\n",
            "21/21 [==============================] - 0s 3ms/step - loss: 0.4458 - accuracy: 0.8009 - val_loss: 0.4652 - val_accuracy: 0.7892\n",
            "Epoch 122/500\n",
            "21/21 [==============================] - 0s 4ms/step - loss: 0.4473 - accuracy: 0.8009 - val_loss: 0.4627 - val_accuracy: 0.7848\n",
            "Epoch 123/500\n",
            "21/21 [==============================] - 0s 3ms/step - loss: 0.4441 - accuracy: 0.7994 - val_loss: 0.4677 - val_accuracy: 0.8027\n",
            "Epoch 124/500\n",
            "21/21 [==============================] - 0s 3ms/step - loss: 0.4436 - accuracy: 0.7979 - val_loss: 0.4704 - val_accuracy: 0.7937\n",
            "Epoch 125/500\n",
            "21/21 [==============================] - 0s 3ms/step - loss: 0.4416 - accuracy: 0.7964 - val_loss: 0.4653 - val_accuracy: 0.7982\n",
            "Epoch 126/500\n",
            "21/21 [==============================] - 0s 3ms/step - loss: 0.4448 - accuracy: 0.8054 - val_loss: 0.4637 - val_accuracy: 0.8027\n",
            "Epoch 127/500\n",
            "21/21 [==============================] - 0s 3ms/step - loss: 0.4445 - accuracy: 0.7919 - val_loss: 0.4584 - val_accuracy: 0.8072\n",
            "Epoch 128/500\n",
            "21/21 [==============================] - 0s 3ms/step - loss: 0.4420 - accuracy: 0.7949 - val_loss: 0.4594 - val_accuracy: 0.8027\n",
            "Epoch 129/500\n",
            "21/21 [==============================] - 0s 3ms/step - loss: 0.4400 - accuracy: 0.7949 - val_loss: 0.4618 - val_accuracy: 0.8027\n",
            "Epoch 130/500\n",
            "21/21 [==============================] - 0s 3ms/step - loss: 0.4442 - accuracy: 0.8024 - val_loss: 0.4595 - val_accuracy: 0.8027\n",
            "Epoch 131/500\n",
            "21/21 [==============================] - 0s 4ms/step - loss: 0.4427 - accuracy: 0.8054 - val_loss: 0.4608 - val_accuracy: 0.7982\n",
            "Epoch 132/500\n",
            "21/21 [==============================] - 0s 3ms/step - loss: 0.4427 - accuracy: 0.7919 - val_loss: 0.4581 - val_accuracy: 0.8027\n",
            "Epoch 133/500\n",
            "21/21 [==============================] - 0s 3ms/step - loss: 0.4382 - accuracy: 0.8099 - val_loss: 0.4788 - val_accuracy: 0.7937\n",
            "Epoch 134/500\n",
            "21/21 [==============================] - 0s 3ms/step - loss: 0.4447 - accuracy: 0.7934 - val_loss: 0.4624 - val_accuracy: 0.8027\n",
            "Epoch 135/500\n",
            "21/21 [==============================] - 0s 3ms/step - loss: 0.4382 - accuracy: 0.7994 - val_loss: 0.4814 - val_accuracy: 0.7937\n",
            "Epoch 136/500\n",
            "21/21 [==============================] - 0s 3ms/step - loss: 0.4445 - accuracy: 0.8009 - val_loss: 0.4589 - val_accuracy: 0.8072\n",
            "Epoch 137/500\n",
            "21/21 [==============================] - 0s 3ms/step - loss: 0.4391 - accuracy: 0.8069 - val_loss: 0.4615 - val_accuracy: 0.8027\n",
            "Epoch 138/500\n",
            "21/21 [==============================] - 0s 3ms/step - loss: 0.4403 - accuracy: 0.8054 - val_loss: 0.4589 - val_accuracy: 0.8027\n",
            "Epoch 139/500\n",
            "21/21 [==============================] - 0s 3ms/step - loss: 0.4360 - accuracy: 0.7979 - val_loss: 0.4682 - val_accuracy: 0.7982\n",
            "Epoch 140/500\n",
            "21/21 [==============================] - 0s 3ms/step - loss: 0.4381 - accuracy: 0.7979 - val_loss: 0.4560 - val_accuracy: 0.8072\n",
            "Epoch 141/500\n",
            "21/21 [==============================] - 0s 3ms/step - loss: 0.4410 - accuracy: 0.7919 - val_loss: 0.4560 - val_accuracy: 0.8117\n",
            "Epoch 142/500\n",
            "21/21 [==============================] - 0s 3ms/step - loss: 0.4345 - accuracy: 0.8099 - val_loss: 0.4577 - val_accuracy: 0.8117\n",
            "Epoch 143/500\n",
            "21/21 [==============================] - 0s 4ms/step - loss: 0.4385 - accuracy: 0.8024 - val_loss: 0.4578 - val_accuracy: 0.8072\n",
            "Epoch 144/500\n",
            "21/21 [==============================] - 0s 3ms/step - loss: 0.4363 - accuracy: 0.7934 - val_loss: 0.4678 - val_accuracy: 0.7982\n",
            "Epoch 145/500\n",
            "21/21 [==============================] - 0s 3ms/step - loss: 0.4368 - accuracy: 0.7964 - val_loss: 0.4708 - val_accuracy: 0.7982\n",
            "Epoch 146/500\n",
            "21/21 [==============================] - 0s 3ms/step - loss: 0.4389 - accuracy: 0.7994 - val_loss: 0.4608 - val_accuracy: 0.8072\n",
            "Epoch 147/500\n",
            "21/21 [==============================] - 0s 3ms/step - loss: 0.4365 - accuracy: 0.7979 - val_loss: 0.4551 - val_accuracy: 0.8072\n",
            "Epoch 148/500\n",
            "21/21 [==============================] - 0s 3ms/step - loss: 0.4378 - accuracy: 0.8009 - val_loss: 0.4571 - val_accuracy: 0.8072\n",
            "Epoch 149/500\n",
            "21/21 [==============================] - 0s 3ms/step - loss: 0.4366 - accuracy: 0.8009 - val_loss: 0.4568 - val_accuracy: 0.8027\n",
            "Epoch 150/500\n",
            "21/21 [==============================] - 0s 4ms/step - loss: 0.4355 - accuracy: 0.7964 - val_loss: 0.4535 - val_accuracy: 0.8161\n",
            "Epoch 151/500\n",
            "21/21 [==============================] - 0s 3ms/step - loss: 0.4341 - accuracy: 0.8009 - val_loss: 0.4534 - val_accuracy: 0.7982\n",
            "Epoch 152/500\n",
            "21/21 [==============================] - 0s 3ms/step - loss: 0.4360 - accuracy: 0.7964 - val_loss: 0.4542 - val_accuracy: 0.8161\n",
            "Epoch 153/500\n",
            "21/21 [==============================] - 0s 3ms/step - loss: 0.4386 - accuracy: 0.8009 - val_loss: 0.4559 - val_accuracy: 0.8027\n",
            "Epoch 154/500\n",
            "21/21 [==============================] - 0s 4ms/step - loss: 0.4323 - accuracy: 0.8024 - val_loss: 0.4528 - val_accuracy: 0.8117\n",
            "Epoch 155/500\n",
            "21/21 [==============================] - 0s 3ms/step - loss: 0.4316 - accuracy: 0.7964 - val_loss: 0.4587 - val_accuracy: 0.8072\n",
            "Epoch 156/500\n",
            "21/21 [==============================] - 0s 3ms/step - loss: 0.4353 - accuracy: 0.7949 - val_loss: 0.4517 - val_accuracy: 0.8206\n",
            "Epoch 157/500\n",
            "21/21 [==============================] - 0s 3ms/step - loss: 0.4340 - accuracy: 0.8039 - val_loss: 0.4524 - val_accuracy: 0.8027\n",
            "Epoch 158/500\n",
            "21/21 [==============================] - 0s 4ms/step - loss: 0.4328 - accuracy: 0.8009 - val_loss: 0.4556 - val_accuracy: 0.7982\n",
            "Epoch 159/500\n",
            "21/21 [==============================] - 0s 3ms/step - loss: 0.4367 - accuracy: 0.7994 - val_loss: 0.4542 - val_accuracy: 0.7982\n",
            "Epoch 160/500\n",
            "21/21 [==============================] - 0s 3ms/step - loss: 0.4341 - accuracy: 0.7934 - val_loss: 0.4540 - val_accuracy: 0.7982\n",
            "Epoch 161/500\n",
            "21/21 [==============================] - 0s 3ms/step - loss: 0.4290 - accuracy: 0.8024 - val_loss: 0.4549 - val_accuracy: 0.7937\n",
            "Epoch 162/500\n",
            "21/21 [==============================] - 0s 3ms/step - loss: 0.4314 - accuracy: 0.7979 - val_loss: 0.4586 - val_accuracy: 0.7982\n",
            "Epoch 163/500\n",
            "21/21 [==============================] - 0s 4ms/step - loss: 0.4351 - accuracy: 0.7919 - val_loss: 0.4534 - val_accuracy: 0.7982\n",
            "Epoch 164/500\n",
            "21/21 [==============================] - 0s 4ms/step - loss: 0.4292 - accuracy: 0.7934 - val_loss: 0.4608 - val_accuracy: 0.8117\n",
            "Epoch 165/500\n",
            "21/21 [==============================] - 0s 3ms/step - loss: 0.4320 - accuracy: 0.7994 - val_loss: 0.4571 - val_accuracy: 0.8072\n",
            "Epoch 166/500\n",
            "21/21 [==============================] - 0s 3ms/step - loss: 0.4307 - accuracy: 0.8024 - val_loss: 0.4536 - val_accuracy: 0.8117\n",
            "Epoch 167/500\n",
            "21/21 [==============================] - 0s 3ms/step - loss: 0.4306 - accuracy: 0.7949 - val_loss: 0.4552 - val_accuracy: 0.8161\n",
            "Epoch 168/500\n",
            "21/21 [==============================] - 0s 3ms/step - loss: 0.4295 - accuracy: 0.8024 - val_loss: 0.4549 - val_accuracy: 0.8027\n",
            "Epoch 169/500\n",
            "21/21 [==============================] - 0s 3ms/step - loss: 0.4314 - accuracy: 0.7919 - val_loss: 0.4535 - val_accuracy: 0.8072\n",
            "Epoch 170/500\n",
            "21/21 [==============================] - 0s 3ms/step - loss: 0.4292 - accuracy: 0.8024 - val_loss: 0.4515 - val_accuracy: 0.8117\n",
            "Epoch 171/500\n",
            "21/21 [==============================] - 0s 3ms/step - loss: 0.4248 - accuracy: 0.8024 - val_loss: 0.4668 - val_accuracy: 0.7982\n",
            "Epoch 172/500\n",
            "21/21 [==============================] - 0s 3ms/step - loss: 0.4333 - accuracy: 0.7919 - val_loss: 0.4504 - val_accuracy: 0.8161\n",
            "Epoch 173/500\n",
            "21/21 [==============================] - 0s 2ms/step - loss: 0.4307 - accuracy: 0.7979 - val_loss: 0.4510 - val_accuracy: 0.8072\n",
            "Epoch 174/500\n",
            "21/21 [==============================] - 0s 4ms/step - loss: 0.4271 - accuracy: 0.8009 - val_loss: 0.4503 - val_accuracy: 0.8161\n",
            "Epoch 175/500\n",
            "21/21 [==============================] - 0s 3ms/step - loss: 0.4296 - accuracy: 0.7919 - val_loss: 0.4547 - val_accuracy: 0.8117\n",
            "Epoch 176/500\n",
            "21/21 [==============================] - 0s 3ms/step - loss: 0.4283 - accuracy: 0.7979 - val_loss: 0.4494 - val_accuracy: 0.8117\n",
            "Epoch 177/500\n",
            "21/21 [==============================] - 0s 4ms/step - loss: 0.4295 - accuracy: 0.7979 - val_loss: 0.4509 - val_accuracy: 0.8117\n",
            "Epoch 178/500\n",
            "21/21 [==============================] - 0s 3ms/step - loss: 0.4275 - accuracy: 0.8039 - val_loss: 0.4521 - val_accuracy: 0.7982\n",
            "Epoch 179/500\n",
            "21/21 [==============================] - 0s 3ms/step - loss: 0.4283 - accuracy: 0.8009 - val_loss: 0.4609 - val_accuracy: 0.8027\n",
            "Epoch 180/500\n",
            "21/21 [==============================] - 0s 3ms/step - loss: 0.4261 - accuracy: 0.7979 - val_loss: 0.4514 - val_accuracy: 0.8117\n",
            "Epoch 181/500\n",
            "21/21 [==============================] - 0s 3ms/step - loss: 0.4279 - accuracy: 0.8054 - val_loss: 0.4577 - val_accuracy: 0.8027\n",
            "Epoch 182/500\n",
            "21/21 [==============================] - 0s 3ms/step - loss: 0.4280 - accuracy: 0.7889 - val_loss: 0.4506 - val_accuracy: 0.8027\n",
            "Epoch 183/500\n",
            "21/21 [==============================] - 0s 3ms/step - loss: 0.4228 - accuracy: 0.8024 - val_loss: 0.4534 - val_accuracy: 0.8117\n",
            "Epoch 184/500\n",
            "21/21 [==============================] - 0s 3ms/step - loss: 0.4287 - accuracy: 0.7994 - val_loss: 0.4537 - val_accuracy: 0.8117\n",
            "Epoch 185/500\n",
            "21/21 [==============================] - 0s 4ms/step - loss: 0.4283 - accuracy: 0.8009 - val_loss: 0.4515 - val_accuracy: 0.7982\n",
            "Epoch 186/500\n",
            "21/21 [==============================] - 0s 3ms/step - loss: 0.4260 - accuracy: 0.8039 - val_loss: 0.4486 - val_accuracy: 0.8161\n",
            "Epoch 187/500\n",
            "21/21 [==============================] - 0s 3ms/step - loss: 0.4251 - accuracy: 0.7994 - val_loss: 0.4489 - val_accuracy: 0.8117\n",
            "Epoch 188/500\n",
            "21/21 [==============================] - 0s 3ms/step - loss: 0.4257 - accuracy: 0.7919 - val_loss: 0.4518 - val_accuracy: 0.8072\n",
            "Epoch 189/500\n",
            "21/21 [==============================] - 0s 4ms/step - loss: 0.4236 - accuracy: 0.7904 - val_loss: 0.4585 - val_accuracy: 0.8117\n",
            "Epoch 190/500\n",
            "21/21 [==============================] - 0s 3ms/step - loss: 0.4260 - accuracy: 0.8084 - val_loss: 0.4505 - val_accuracy: 0.8072\n",
            "Epoch 191/500\n",
            "21/21 [==============================] - 0s 4ms/step - loss: 0.4254 - accuracy: 0.8009 - val_loss: 0.4520 - val_accuracy: 0.7982\n",
            "Epoch 192/500\n",
            "21/21 [==============================] - 0s 3ms/step - loss: 0.4268 - accuracy: 0.7964 - val_loss: 0.4528 - val_accuracy: 0.8117\n",
            "Epoch 193/500\n",
            "21/21 [==============================] - 0s 4ms/step - loss: 0.4239 - accuracy: 0.8159 - val_loss: 0.4600 - val_accuracy: 0.8027\n",
            "Epoch 194/500\n",
            "21/21 [==============================] - 0s 3ms/step - loss: 0.4226 - accuracy: 0.8024 - val_loss: 0.4563 - val_accuracy: 0.8027\n",
            "Epoch 195/500\n",
            "21/21 [==============================] - 0s 4ms/step - loss: 0.4241 - accuracy: 0.8084 - val_loss: 0.4485 - val_accuracy: 0.8072\n",
            "Epoch 196/500\n",
            "21/21 [==============================] - 0s 3ms/step - loss: 0.4233 - accuracy: 0.8039 - val_loss: 0.4518 - val_accuracy: 0.8117\n",
            "Epoch 197/500\n",
            "21/21 [==============================] - 0s 4ms/step - loss: 0.4210 - accuracy: 0.8054 - val_loss: 0.4508 - val_accuracy: 0.8161\n",
            "Epoch 198/500\n",
            "21/21 [==============================] - 0s 3ms/step - loss: 0.4236 - accuracy: 0.8039 - val_loss: 0.4491 - val_accuracy: 0.7982\n",
            "Epoch 199/500\n",
            "21/21 [==============================] - 0s 3ms/step - loss: 0.4231 - accuracy: 0.8024 - val_loss: 0.4506 - val_accuracy: 0.8072\n",
            "Epoch 200/500\n",
            "21/21 [==============================] - 0s 4ms/step - loss: 0.4222 - accuracy: 0.8129 - val_loss: 0.4497 - val_accuracy: 0.8117\n",
            "Epoch 201/500\n",
            "21/21 [==============================] - 0s 3ms/step - loss: 0.4199 - accuracy: 0.7949 - val_loss: 0.4514 - val_accuracy: 0.8206\n",
            "Epoch 202/500\n",
            "21/21 [==============================] - 0s 3ms/step - loss: 0.4220 - accuracy: 0.8039 - val_loss: 0.4506 - val_accuracy: 0.8027\n",
            "Epoch 203/500\n",
            "21/21 [==============================] - 0s 3ms/step - loss: 0.4192 - accuracy: 0.8129 - val_loss: 0.4542 - val_accuracy: 0.8027\n",
            "Epoch 204/500\n",
            "21/21 [==============================] - 0s 3ms/step - loss: 0.4218 - accuracy: 0.7979 - val_loss: 0.4502 - val_accuracy: 0.8072\n",
            "Epoch 205/500\n",
            "21/21 [==============================] - 0s 3ms/step - loss: 0.4176 - accuracy: 0.8114 - val_loss: 0.4627 - val_accuracy: 0.8027\n",
            "Epoch 206/500\n",
            "21/21 [==============================] - 0s 4ms/step - loss: 0.4177 - accuracy: 0.8084 - val_loss: 0.4602 - val_accuracy: 0.8072\n",
            "Epoch 207/500\n",
            "21/21 [==============================] - 0s 3ms/step - loss: 0.4198 - accuracy: 0.8114 - val_loss: 0.4507 - val_accuracy: 0.8072\n",
            "Epoch 208/500\n",
            "21/21 [==============================] - 0s 3ms/step - loss: 0.4209 - accuracy: 0.8009 - val_loss: 0.4584 - val_accuracy: 0.8072\n",
            "Epoch 209/500\n",
            "21/21 [==============================] - 0s 4ms/step - loss: 0.4183 - accuracy: 0.8159 - val_loss: 0.4537 - val_accuracy: 0.8117\n",
            "Epoch 210/500\n",
            "21/21 [==============================] - 0s 3ms/step - loss: 0.4196 - accuracy: 0.8069 - val_loss: 0.4538 - val_accuracy: 0.8027\n",
            "Epoch 211/500\n",
            "21/21 [==============================] - 0s 3ms/step - loss: 0.4190 - accuracy: 0.8039 - val_loss: 0.4525 - val_accuracy: 0.8072\n",
            "Epoch 212/500\n",
            "21/21 [==============================] - 0s 4ms/step - loss: 0.4183 - accuracy: 0.8084 - val_loss: 0.4577 - val_accuracy: 0.8161\n",
            "Epoch 213/500\n",
            "21/21 [==============================] - 0s 4ms/step - loss: 0.4153 - accuracy: 0.8114 - val_loss: 0.4543 - val_accuracy: 0.8072\n",
            "Epoch 214/500\n",
            "21/21 [==============================] - 0s 4ms/step - loss: 0.4178 - accuracy: 0.8084 - val_loss: 0.4538 - val_accuracy: 0.8117\n",
            "Epoch 215/500\n",
            "21/21 [==============================] - 0s 3ms/step - loss: 0.4185 - accuracy: 0.8129 - val_loss: 0.4528 - val_accuracy: 0.8027\n",
            "Epoch 216/500\n",
            "21/21 [==============================] - 0s 3ms/step - loss: 0.4203 - accuracy: 0.8084 - val_loss: 0.4513 - val_accuracy: 0.8072\n",
            "Epoch 217/500\n",
            "21/21 [==============================] - 0s 3ms/step - loss: 0.4165 - accuracy: 0.8099 - val_loss: 0.4686 - val_accuracy: 0.7937\n",
            "Epoch 218/500\n",
            "21/21 [==============================] - 0s 4ms/step - loss: 0.4175 - accuracy: 0.8069 - val_loss: 0.4513 - val_accuracy: 0.8161\n",
            "Epoch 219/500\n",
            "21/21 [==============================] - 0s 3ms/step - loss: 0.4177 - accuracy: 0.8069 - val_loss: 0.4511 - val_accuracy: 0.8161\n",
            "Epoch 220/500\n",
            "21/21 [==============================] - 0s 3ms/step - loss: 0.4180 - accuracy: 0.8099 - val_loss: 0.4512 - val_accuracy: 0.8161\n",
            "Epoch 221/500\n",
            "21/21 [==============================] - 0s 3ms/step - loss: 0.4163 - accuracy: 0.8054 - val_loss: 0.4551 - val_accuracy: 0.8072\n",
            "Epoch 222/500\n",
            "21/21 [==============================] - 0s 3ms/step - loss: 0.4178 - accuracy: 0.8039 - val_loss: 0.4548 - val_accuracy: 0.8117\n",
            "Epoch 223/500\n",
            "21/21 [==============================] - 0s 3ms/step - loss: 0.4177 - accuracy: 0.8069 - val_loss: 0.4521 - val_accuracy: 0.8206\n",
            "Epoch 224/500\n",
            "21/21 [==============================] - 0s 4ms/step - loss: 0.4178 - accuracy: 0.8024 - val_loss: 0.4539 - val_accuracy: 0.8161\n",
            "Epoch 225/500\n",
            "21/21 [==============================] - 0s 3ms/step - loss: 0.4189 - accuracy: 0.8069 - val_loss: 0.4524 - val_accuracy: 0.8072\n",
            "Epoch 226/500\n",
            "21/21 [==============================] - 0s 3ms/step - loss: 0.4152 - accuracy: 0.8129 - val_loss: 0.4536 - val_accuracy: 0.8161\n",
            "Epoch 227/500\n",
            "21/21 [==============================] - 0s 3ms/step - loss: 0.4155 - accuracy: 0.8099 - val_loss: 0.4525 - val_accuracy: 0.8117\n",
            "Epoch 228/500\n",
            "21/21 [==============================] - 0s 3ms/step - loss: 0.4169 - accuracy: 0.8069 - val_loss: 0.4564 - val_accuracy: 0.8117\n",
            "Epoch 229/500\n",
            "21/21 [==============================] - 0s 3ms/step - loss: 0.4124 - accuracy: 0.8114 - val_loss: 0.4592 - val_accuracy: 0.8027\n",
            "Epoch 230/500\n",
            "21/21 [==============================] - 0s 3ms/step - loss: 0.4183 - accuracy: 0.8084 - val_loss: 0.4502 - val_accuracy: 0.8117\n",
            "Epoch 231/500\n",
            "21/21 [==============================] - 0s 3ms/step - loss: 0.4178 - accuracy: 0.8144 - val_loss: 0.4503 - val_accuracy: 0.8206\n",
            "Epoch 232/500\n",
            "21/21 [==============================] - 0s 3ms/step - loss: 0.4149 - accuracy: 0.8054 - val_loss: 0.4539 - val_accuracy: 0.8072\n",
            "Epoch 233/500\n",
            "21/21 [==============================] - 0s 4ms/step - loss: 0.4154 - accuracy: 0.8114 - val_loss: 0.4502 - val_accuracy: 0.8072\n",
            "Epoch 234/500\n",
            "21/21 [==============================] - 0s 3ms/step - loss: 0.4170 - accuracy: 0.8114 - val_loss: 0.4508 - val_accuracy: 0.8161\n",
            "Epoch 235/500\n",
            "21/21 [==============================] - 0s 4ms/step - loss: 0.4194 - accuracy: 0.8129 - val_loss: 0.4499 - val_accuracy: 0.8117\n",
            "Epoch 236/500\n",
            "21/21 [==============================] - 0s 3ms/step - loss: 0.4147 - accuracy: 0.8129 - val_loss: 0.4567 - val_accuracy: 0.8027\n",
            "Epoch 237/500\n",
            "21/21 [==============================] - 0s 3ms/step - loss: 0.4162 - accuracy: 0.8129 - val_loss: 0.4521 - val_accuracy: 0.8117\n",
            "Epoch 238/500\n",
            "21/21 [==============================] - 0s 3ms/step - loss: 0.4155 - accuracy: 0.8144 - val_loss: 0.4533 - val_accuracy: 0.8027\n",
            "Epoch 239/500\n",
            "21/21 [==============================] - 0s 3ms/step - loss: 0.4153 - accuracy: 0.8144 - val_loss: 0.4530 - val_accuracy: 0.8072\n",
            "Epoch 240/500\n",
            "21/21 [==============================] - 0s 3ms/step - loss: 0.4146 - accuracy: 0.8129 - val_loss: 0.4528 - val_accuracy: 0.8161\n",
            "Epoch 241/500\n",
            "21/21 [==============================] - 0s 3ms/step - loss: 0.4140 - accuracy: 0.8099 - val_loss: 0.4611 - val_accuracy: 0.8027\n",
            "Epoch 242/500\n",
            "21/21 [==============================] - 0s 4ms/step - loss: 0.4143 - accuracy: 0.8024 - val_loss: 0.4588 - val_accuracy: 0.8161\n",
            "Epoch 243/500\n",
            "21/21 [==============================] - 0s 3ms/step - loss: 0.4145 - accuracy: 0.8114 - val_loss: 0.4512 - val_accuracy: 0.8161\n",
            "Epoch 244/500\n",
            "21/21 [==============================] - 0s 3ms/step - loss: 0.4122 - accuracy: 0.8159 - val_loss: 0.4612 - val_accuracy: 0.8027\n",
            "Epoch 245/500\n",
            "21/21 [==============================] - 0s 3ms/step - loss: 0.4192 - accuracy: 0.8039 - val_loss: 0.4510 - val_accuracy: 0.8117\n",
            "Epoch 246/500\n",
            "21/21 [==============================] - 0s 3ms/step - loss: 0.4121 - accuracy: 0.8144 - val_loss: 0.4607 - val_accuracy: 0.7982\n",
            "Epoch 247/500\n",
            "21/21 [==============================] - 0s 3ms/step - loss: 0.4158 - accuracy: 0.8084 - val_loss: 0.4572 - val_accuracy: 0.8161\n",
            "Epoch 248/500\n",
            "21/21 [==============================] - 0s 4ms/step - loss: 0.4111 - accuracy: 0.8219 - val_loss: 0.4508 - val_accuracy: 0.8117\n",
            "Epoch 249/500\n",
            "21/21 [==============================] - 0s 3ms/step - loss: 0.4187 - accuracy: 0.8099 - val_loss: 0.4533 - val_accuracy: 0.8072\n",
            "Epoch 250/500\n",
            "21/21 [==============================] - 0s 3ms/step - loss: 0.4129 - accuracy: 0.8099 - val_loss: 0.4564 - val_accuracy: 0.8117\n",
            "Epoch 251/500\n",
            "21/21 [==============================] - 0s 3ms/step - loss: 0.4153 - accuracy: 0.8084 - val_loss: 0.4582 - val_accuracy: 0.8027\n",
            "Epoch 252/500\n",
            "21/21 [==============================] - 0s 4ms/step - loss: 0.4177 - accuracy: 0.8069 - val_loss: 0.4492 - val_accuracy: 0.8117\n",
            "Epoch 253/500\n",
            "21/21 [==============================] - 0s 3ms/step - loss: 0.4138 - accuracy: 0.8129 - val_loss: 0.4504 - val_accuracy: 0.8072\n",
            "Epoch 254/500\n",
            "21/21 [==============================] - 0s 3ms/step - loss: 0.4151 - accuracy: 0.8099 - val_loss: 0.4538 - val_accuracy: 0.8206\n",
            "Epoch 255/500\n",
            "21/21 [==============================] - 0s 3ms/step - loss: 0.4124 - accuracy: 0.8114 - val_loss: 0.4496 - val_accuracy: 0.8161\n",
            "Epoch 256/500\n",
            "21/21 [==============================] - 0s 5ms/step - loss: 0.4153 - accuracy: 0.8129 - val_loss: 0.4505 - val_accuracy: 0.8161\n"
          ],
          "name": "stdout"
        }
      ]
    },
    {
      "cell_type": "code",
      "metadata": {
        "colab": {
          "base_uri": "https://localhost:8080/",
          "height": 541
        },
        "id": "L1Ok-4dxY_hd",
        "outputId": "4b989762-d1ee-4530-d259-4e6dac595221"
      },
      "source": [
        "def pltGr(history, string):\n",
        "  plt.plot(history.history[string])\n",
        "  plt.plot(history.history['val_'+string])\n",
        "  plt.xlabel('Epochs')\n",
        "  plt.ylabel(string)\n",
        "  plt.legend([string, 'val_'+string])\n",
        "  plt.show()\n",
        "\n",
        "\n",
        "pltGr(history, 'accuracy')\n",
        "pltGr(history, 'loss')"
      ],
      "execution_count": 67,
      "outputs": [
        {
          "output_type": "display_data",
          "data": {
            "image/png": "[encoded data removed]",
            "text/plain": [
              "<Figure size 432x288 with 1 Axes>"
            ]
          },
          "metadata": {
            "tags": [],
            "needs_background": "light"
          }
        },
        {
          "output_type": "display_data",
          "data": {
            "image/png": "[encoded data removed]",
            "text/plain": [
              "<Figure size 432x288 with 1 Axes>"
            ]
          },
          "metadata": {
            "tags": [],
            "needs_background": "light"
          }
        }
      ]
    },
    {
      "cell_type": "code",
      "metadata": {
        "id": "5GK9JegsY_p5"
      },
      "source": [
        "testPreds = model1.predict(X_test)"
      ],
      "execution_count": 69,
      "outputs": []
    },
    {
      "cell_type": "code",
      "metadata": {
        "id": "FzaJ9xgKY_tZ"
      },
      "source": [
        "def errorPlot(labels, preds, binVal):\n",
        "  err = preds - labels\n",
        "  plt.hist(err, bins=binVal)\n",
        "  plt.xlabel('Prediction-Error')\n",
        "  plt.ylabel('Count')\n",
        "  plt.show()"
      ],
      "execution_count": 70,
      "outputs": []
    },
    {
      "cell_type": "code",
      "metadata": {
        "colab": {
          "base_uri": "https://localhost:8080/"
        },
        "id": "HS5macSIdfNO",
        "outputId": "1b998932-497c-405c-b803-40dde762a931"
      },
      "source": [
        "Y_test"
      ],
      "execution_count": 77,
      "outputs": [
        {
          "output_type": "execute_result",
          "data": {
            "text/plain": [
              "698    0\n",
              "706    1\n",
              "372    0\n",
              "374    0\n",
              "428    0\n",
              "      ..\n",
              "690    1\n",
              "149    0\n",
              "157    0\n",
              "344    0\n",
              "829    1\n",
              "Name: Survived, Length: 223, dtype: int64"
            ]
          },
          "metadata": {
            "tags": []
          },
          "execution_count": 77
        }
      ]
    },
    {
      "cell_type": "code",
      "metadata": {
        "colab": {
          "base_uri": "https://localhost:8080/"
        },
        "id": "qwYOV2D5coZ1",
        "outputId": "835b95df-b8f9-4e2e-883e-765184a3f7aa"
      },
      "source": [
        "t=testPreds.flatten()\n",
        "list(t)"
      ],
      "execution_count": 78,
      "outputs": [
        {
          "output_type": "execute_result",
          "data": {
            "text/plain": [
              "[0.5922507,\n",
              " 0.77091527,\n",
              " 0.13101944,\n",
              " 0.31753576,\n",
              " 0.11895844,\n",
              " 0.07447246,\n",
              " 0.06494784,\n",
              " 0.7667595,\n",
              " 0.07157016,\n",
              " 0.44874215,\n",
              " 0.83886194,\n",
              " 0.8623607,\n",
              " 0.4091931,\n",
              " 0.12930185,\n",
              " 0.8100944,\n",
              " 0.08999866,\n",
              " 0.87604463,\n",
              " 0.422378,\n",
              " 0.08788109,\n",
              " 0.067209244,\n",
              " 0.22177297,\n",
              " 0.17216766,\n",
              " 0.08999866,\n",
              " 0.53388685,\n",
              " 0.075644255,\n",
              " 0.07751429,\n",
              " 0.99726975,\n",
              " 0.19150147,\n",
              " 0.17194411,\n",
              " 0.66046655,\n",
              " 0.8284391,\n",
              " 0.8562034,\n",
              " 0.07223472,\n",
              " 0.7029824,\n",
              " 0.14519766,\n",
              " 0.087750554,\n",
              " 0.847382,\n",
              " 0.17720607,\n",
              " 0.7238728,\n",
              " 0.99343204,\n",
              " 0.025748909,\n",
              " 0.03536874,\n",
              " 0.32943228,\n",
              " 0.48360428,\n",
              " 0.054220706,\n",
              " 0.23449785,\n",
              " 0.25732106,\n",
              " 0.07223472,\n",
              " 0.072460264,\n",
              " 0.22641033,\n",
              " 0.07763538,\n",
              " 0.07168123,\n",
              " 0.25032657,\n",
              " 0.5988344,\n",
              " 0.12539905,\n",
              " 0.7579939,\n",
              " 0.7947264,\n",
              " 0.059142202,\n",
              " 0.21319515,\n",
              " 0.38891065,\n",
              " 0.42214507,\n",
              " 0.2715089,\n",
              " 0.23985031,\n",
              " 0.3111003,\n",
              " 0.6261024,\n",
              " 0.041841447,\n",
              " 0.77415085,\n",
              " 0.07168123,\n",
              " 0.31117636,\n",
              " 0.07867351,\n",
              " 0.058930814,\n",
              " 0.079147995,\n",
              " 0.039726824,\n",
              " 0.5346113,\n",
              " 0.09674546,\n",
              " 0.5200415,\n",
              " 0.52009827,\n",
              " 0.059142202,\n",
              " 0.15166146,\n",
              " 0.6852093,\n",
              " 0.8663925,\n",
              " 0.16496688,\n",
              " 0.7753054,\n",
              " 0.17285809,\n",
              " 0.18410233,\n",
              " 0.3080136,\n",
              " 0.42639494,\n",
              " 0.0809266,\n",
              " 0.3352207,\n",
              " 0.86208963,\n",
              " 0.89152974,\n",
              " 0.87016773,\n",
              " 0.7329354,\n",
              " 0.12660348,\n",
              " 0.14832422,\n",
              " 0.48659825,\n",
              " 0.20452717,\n",
              " 0.31927568,\n",
              " 0.18375456,\n",
              " 0.59125394,\n",
              " 0.07342452,\n",
              " 0.03666714,\n",
              " 0.046910495,\n",
              " 0.21257648,\n",
              " 0.102259815,\n",
              " 0.06889829,\n",
              " 0.14878145,\n",
              " 0.089980215,\n",
              " 0.071986616,\n",
              " 0.06366333,\n",
              " 0.09863728,\n",
              " 0.9462712,\n",
              " 0.23884472,\n",
              " 0.86913395,\n",
              " 0.19622555,\n",
              " 0.05763167,\n",
              " 0.20044777,\n",
              " 0.3189739,\n",
              " 0.23779449,\n",
              " 0.607901,\n",
              " 0.11881769,\n",
              " 0.89598686,\n",
              " 0.055312574,\n",
              " 0.059142202,\n",
              " 0.16202581,\n",
              " 0.08994168,\n",
              " 0.07223475,\n",
              " 0.14810658,\n",
              " 0.2921757,\n",
              " 0.81317145,\n",
              " 0.11895844,\n",
              " 0.85913205,\n",
              " 0.16137034,\n",
              " 0.86415744,\n",
              " 0.78077054,\n",
              " 0.0991987,\n",
              " 0.6008552,\n",
              " 0.18818134,\n",
              " 0.52811474,\n",
              " 0.8619908,\n",
              " 0.5578909,\n",
              " 0.062497288,\n",
              " 0.07223472,\n",
              " 0.21257648,\n",
              " 0.07168123,\n",
              " 0.79352367,\n",
              " 0.06872246,\n",
              " 0.7546245,\n",
              " 0.17967904,\n",
              " 0.61692417,\n",
              " 0.049821347,\n",
              " 0.08832848,\n",
              " 0.15118197,\n",
              " 0.09649882,\n",
              " 0.047204882,\n",
              " 0.08089557,\n",
              " 0.08079848,\n",
              " 0.06828037,\n",
              " 0.9522636,\n",
              " 0.48854902,\n",
              " 0.8272433,\n",
              " 0.87984115,\n",
              " 0.8889414,\n",
              " 0.11940539,\n",
              " 0.25128824,\n",
              " 0.16710928,\n",
              " 0.20804831,\n",
              " 0.067896634,\n",
              " 0.9878255,\n",
              " 0.1842553,\n",
              " 0.11622387,\n",
              " 0.04551956,\n",
              " 0.2431185,\n",
              " 0.28263783,\n",
              " 0.19957057,\n",
              " 0.7907368,\n",
              " 0.31124237,\n",
              " 0.13256839,\n",
              " 0.68411005,\n",
              " 0.07590383,\n",
              " 0.116622865,\n",
              " 0.032143354,\n",
              " 0.4424142,\n",
              " 0.05668217,\n",
              " 0.098891705,\n",
              " 0.09863728,\n",
              " 0.11895844,\n",
              " 0.35342747,\n",
              " 0.17659387,\n",
              " 0.060143143,\n",
              " 0.8159034,\n",
              " 0.84520155,\n",
              " 0.3924099,\n",
              " 0.18624103,\n",
              " 0.27395484,\n",
              " 0.12720963,\n",
              " 0.13223726,\n",
              " 0.9894963,\n",
              " 0.12796965,\n",
              " 0.7276184,\n",
              " 0.011176378,\n",
              " 0.07168123,\n",
              " 0.07805273,\n",
              " 0.83488137,\n",
              " 0.15349892,\n",
              " 0.81709194,\n",
              " 0.81861687,\n",
              " 0.78301597,\n",
              " 0.35887444,\n",
              " 0.7935712,\n",
              " 0.11886439,\n",
              " 0.08151117,\n",
              " 0.06696376,\n",
              " 0.0005543232,\n",
              " 0.109794796,\n",
              " 0.84506536,\n",
              " 0.29824847,\n",
              " 0.29566056,\n",
              " 0.28372556,\n",
              " 0.13581401,\n",
              " 0.06248477,\n",
              " 0.15511307,\n",
              " 0.99685806]"
            ]
          },
          "metadata": {
            "tags": []
          },
          "execution_count": 78
        }
      ]
    },
    {
      "cell_type": "code",
      "metadata": {
        "colab": {
          "base_uri": "https://localhost:8080/",
          "height": 279
        },
        "id": "-fQoirkncdoE",
        "outputId": "02668fba-3439-46ea-987c-72600774bafe"
      },
      "source": [
        "errorPlot(Y_test, t, 100)"
      ],
      "execution_count": 79,
      "outputs": [
        {
          "output_type": "display_data",
          "data": {
            "image/png": "[encoded data removed]",
            "text/plain": [
              "<Figure size 432x288 with 1 Axes>"
            ]
          },
          "metadata": {
            "tags": [],
            "needs_background": "light"
          }
        }
      ]
    },
    {
      "cell_type": "code",
      "metadata": {
        "id": "9O1TGsuFeiwU"
      },
      "source": [
        "te = []\n",
        "for x in t:\n",
        "  if x >= 0.5:\n",
        "    te.append(1)\n",
        "  else:\n",
        "    te.append(0)"
      ],
      "execution_count": 81,
      "outputs": []
    },
    {
      "cell_type": "code",
      "metadata": {
        "colab": {
          "base_uri": "https://localhost:8080/",
          "height": 279
        },
        "id": "fcPSqnnqidlI",
        "outputId": "ca9f3dc9-4de2-4c11-eed4-d1836325a55e"
      },
      "source": [
        "errorPlot(Y_test, te, 100)"
      ],
      "execution_count": 82,
      "outputs": [
        {
          "output_type": "display_data",
          "data": {
            "image/png": "[encoded data removed]",
            "text/plain": [
              "<Figure size 432x288 with 1 Axes>"
            ]
          },
          "metadata": {
            "tags": [],
            "needs_background": "light"
          }
        }
      ]
    }
  ]
}